{
 "cells": [
  {
   "cell_type": "code",
   "execution_count": 3,
   "id": "b3fc8675",
   "metadata": {},
   "outputs": [],
   "source": [
    "import numpy as np\n",
    "import const\n",
    "from fpath import *\n",
    "from scipy.interpolate import interp1d\n",
    "from scipy.interpolate import RegularGridInterpolator\n",
    "from scipy.interpolate import griddata\n",
    "from math import pi, log10, sqrt, log, exp, sqrt, atan, cos, sin, acos, asin"
   ]
  },
  {
   "cell_type": "code",
   "execution_count": 4,
   "id": "d4ae1ab0",
   "metadata": {},
   "outputs": [],
   "source": [
    "# adjustable parameters\n",
    "nH0 = 1                # [cm^-3] H number density\n",
    "tmax = 300.     # [s], duration of the source\n",
    "LUV = 3e47      # [erg/s]  # source luminosity\n",
    "\n",
    "# fixed parameters\n",
    "tmin = 0.\n",
    "n0_over_nH = 1.45e-15    # dust number density over H number density\n",
    "lam0 = 2.       # [um] critical wavelength for Qabs_lambda\n",
    "thej = pi/2     # [rad] jet opening angle\n",
    "p = 2.2         # electron PL index => spectrum L_nu ~ nu^{(1-p)/2}\n",
    "nuUVmax = 50/const.erg2eV/const.H_PLANCK   # maximum UV frequency 50 eV\n",
    "LnuUVmax = (3-p)/2*LUV/nuUVmax   # Lnu at nuUVmax"
   ]
  },
  {
   "cell_type": "code",
   "execution_count": 5,
   "id": "ffa4a249",
   "metadata": {},
   "outputs": [],
   "source": [
    "amin, amax = 0.01, 0.3      # um, grain size limits\n",
    "Na = 30\n",
    "aarr = np.logspace(log10(amin), log10(amax), Na)\n",
    "a_ratio = aarr[1]/aarr[0]\n",
    "\n",
    "rmin, rmax = 0.4, 100.       # pc, radial layers\n",
    "Nr = 150     # we need dr/r <~ thej to resolve the light curve of the echo\n",
    "rarr = np.logspace(log10(rmin), log10(rmax), Nr)\n",
    "r_ratio = rarr[1]/rarr[0]\n",
    "\n",
    "#THIS IS NEW\n",
    "themin, themax = 0.000001, pi/2    #theta array\n",
    "Nthe = 50\n",
    "thearr = np.linspace(themin, themax, Nthe)\n",
    "Dthe = thearr[1]-thearr[0]\n",
    "\n",
    "# min and max source frequencies\n",
    "numin, numax = 0.1/(const.erg2eV*const.H_PLANCK), 50/(const.erg2eV*const.H_PLANCK)\n",
    "Nnu = 40\n",
    "nuarr = np.logspace(log10(numin), log10(numax), Nnu)    # frequency bins\n",
    "nu_ratio = nuarr[1]/nuarr[0]\n",
    "\n",
    "# jet emission time [dust local frame]\n",
    "Nt = 20     # this is the dimension we interpolate over\n",
    "tarr = np.linspace(tmin, tmax, Nt, endpoint=False)\n",
    "dt = tarr[1] - tarr[0]\n",
    "tarr += dt/2."
   ]
  },
  {
   "cell_type": "code",
   "execution_count": 6,
   "id": "c83a06f7",
   "metadata": {},
   "outputs": [],
   "source": [
    "Tarr = np.zeros((Nt, Nr, Na, Nthe), dtype=float)   # to store the dust temperature\n",
    "asubarr = np.zeros((Nt, Nr, Nthe), dtype=float)    # to store sublimation radii\n",
    "taudarr = np.zeros((Nnu, Nr, Nthe), dtype=float)   # dust extinction optical depth at each nu\n",
    "jdnuarr = np.zeros((Nt, Nr, Nthe), dtype=float)    # volumetric emissivity at lamobs"
   ]
  },
  {
   "cell_type": "code",
   "execution_count": 7,
   "id": "dc7412a9",
   "metadata": {},
   "outputs": [],
   "source": [
    "def func_Lnu(t, nu):     # source spectrum and light curve\n",
    "    if t < tmax:\n",
    "        return LnuUVmax*(nu/nuUVmax)**((1 - p)/2)  # spectrum L_nu ~ nu^{(1-p)/2}\n",
    "    return 0.\n",
    "\n",
    "\n",
    "def func_nH(r, the):      # gas density profile (r in pc)\n",
    "    return nH0\n",
    "\n",
    "\n",
    "def func_Qabs(nu, a):      # absorption efficiency for grain size a [um]\n",
    "    lam = const.C_LIGHT/nu * 1e4    # wavelength in um\n",
    "    return 1./(1 + (lam/lam0)**2 / a)\n",
    "\n",
    "\n",
    "def func_T(qdot_h, aum):    # solve the heating and cooling balance for T\n",
    "    y = qdot_h/(7.12576*aum**2)\n",
    "    if y >= (31.5/aum)**2/12:\n",
    "        return 3240/sqrt(aum)   # the grain should evaporate immediately\n",
    "    xi = sqrt((31.5/aum)**2 - 12*y) + 31.5/aum\n",
    "    T3 = sqrt((2*y*y/3/xi)**(1./3) + (xi*y/18)**(1./3))\n",
    "    return 1000*T3"
   ]
  },
  {
   "cell_type": "code",
   "execution_count": 9,
   "id": "21e5e82e",
   "metadata": {},
   "outputs": [],
   "source": [
    "# compute cumulative number of H as a function of radius and angle\n",
    "Nr_fine = int(Nr*10)\n",
    "Nthe_fine = int(Nthe*10)\n",
    "rarr_fine = np.logspace(log10(rmin/10), log10(rmax), Nr_fine)\n",
    "thearr_fine = np.linspace(themin, themax, Nthe_fine)\n",
    "r_ratio_fine = rarr_fine[1]/rarr_fine[0]\n",
    "Dthe_fine = thearr_fine[1]-thearr_fine[0]\n",
    "NHarr_fine = np.zeros((Nthe_fine, Nr_fine), dtype=float)\n",
    "interp_fns = np.zeros(Nthe_fine, dtype=object)\n",
    "NH = 0."
   ]
  },
  {
   "cell_type": "code",
   "execution_count": 10,
   "id": "c4dc6c19",
   "metadata": {},
   "outputs": [],
   "source": [
    "for i in range(Nthe_fine):\n",
    "    NH = 0\n",
    "    for j in range(Nr_fine):\n",
    "        r = rarr_fine[j]\n",
    "        the = thearr_fine[i]\n",
    "        dr = r * (sqrt(r_ratio_fine) - 1/sqrt(r_ratio_fine))\n",
    "        NH += 2*pi * r*r*np.sin(the)*Dthe_fine*dr*const.pc2cm**3 * func_nH(r, the)\n",
    "        NHarr_fine[i][j] = NH\n",
    "    rthe_NH_intp = interp1d(rarr_fine, NHarr_fine[i], fill_value='extrapolate')\n",
    "    interp_fns[i] = rthe_NH_intp"
   ]
  },
  {
   "cell_type": "code",
   "execution_count": 11,
   "id": "971545f3",
   "metadata": {},
   "outputs": [],
   "source": [
    "sin_the = np.sin(thearr_fine)\n",
    "NH_matrix = 2 * pi * (rarr_fine ** 2)[:, None] * sin_the[None, :] * const.pc2cm ** 3 * func_nH(\n",
    "    rarr_fine[:, None], thearr_fine[None, :])\n",
    "dr_matrix = rarr_fine[:, None] * (np.sqrt(r_ratio_fine) - 1 / np.sqrt(r_ratio_fine))\n",
    "NHarr_fine_vec = np.cumsum(NH_matrix * dr_matrix, axis=0)"
   ]
  },
  {
   "cell_type": "code",
   "execution_count": 13,
   "id": "b5a15073",
   "metadata": {},
   "outputs": [],
   "source": [
    "interp_fns_vec = np.zeros(Nthe_fine, dtype=object)\n",
    "\n",
    "for i in range(Nthe_fine):\n",
    "    interp_fns_vec[i] = interp1d(rarr_fine, NHarr_fine_vec[:, i], fill_value='extrapolate')"
   ]
  },
  {
   "cell_type": "code",
   "execution_count": 20,
   "id": "8c3a3df5",
   "metadata": {},
   "outputs": [
    {
     "data": {
      "text/plain": [
       "array([[1.94115760e+41, 3.91295010e+41, 5.91586097e+41, ...,\n",
       "        1.89201575e+53, 1.92187511e+53, 1.95220569e+53],\n",
       "       [6.11247472e+44, 1.23214151e+45, 1.86283435e+45, ...,\n",
       "        5.95773287e+56, 6.05175643e+56, 6.14726385e+56],\n",
       "       [1.22229477e+45, 2.46387951e+45, 3.72505866e+45, ...,\n",
       "        1.19135147e+57, 1.21015310e+57, 1.22925146e+57],\n",
       "       ...,\n",
       "       [1.94111913e+47, 3.91287255e+47, 5.91574373e+47, ...,\n",
       "        1.89197826e+59, 1.92183702e+59, 1.95216700e+59],\n",
       "       [1.94114798e+47, 3.91293071e+47, 5.91583166e+47, ...,\n",
       "        1.89200638e+59, 1.92186558e+59, 1.95219602e+59],\n",
       "       [1.94115760e+47, 3.91295010e+47, 5.91586097e+47, ...,\n",
       "        1.89201575e+59, 1.92187511e+59, 1.95220569e+59]])"
      ]
     },
     "execution_count": 20,
     "metadata": {},
     "output_type": "execute_result"
    }
   ],
   "source": [
    "NHarr_fine"
   ]
  },
  {
   "cell_type": "code",
   "execution_count": 19,
   "id": "53dd0735",
   "metadata": {},
   "outputs": [
    {
     "data": {
      "text/plain": [
       "array([[6.16654268e+43, 1.24304043e+44, 1.87931207e+44, ...,\n",
       "        6.01043207e+55, 6.10528731e+55, 6.20163954e+55],\n",
       "       [1.94177105e+47, 3.91418667e+47, 5.91773050e+47, ...,\n",
       "        1.89261367e+59, 1.92248246e+59, 1.95282263e+59],\n",
       "       [3.88290620e+47, 7.82709152e+47, 1.18335231e+48, ...,\n",
       "        3.78460754e+59, 3.84433534e+59, 3.90500575e+59],\n",
       "       ...,\n",
       "       [6.16642047e+49, 1.24301580e+50, 1.87927483e+50, ...,\n",
       "        6.01031295e+61, 6.10516631e+61, 6.20151663e+61],\n",
       "       [6.16651213e+49, 1.24303427e+50, 1.87930276e+50, ...,\n",
       "        6.01040229e+61, 6.10525706e+61, 6.20160881e+61],\n",
       "       [6.16654268e+49, 1.24304043e+50, 1.87931207e+50, ...,\n",
       "        6.01043207e+61, 6.10528731e+61, 6.20163954e+61]])"
      ]
     },
     "execution_count": 19,
     "metadata": {},
     "output_type": "execute_result"
    }
   ],
   "source": [
    "NHarr_fine_vec.T"
   ]
  },
  {
   "cell_type": "code",
   "execution_count": 22,
   "id": "f7447508",
   "metadata": {},
   "outputs": [
    {
     "data": {
      "text/plain": [
       "(500,)"
      ]
     },
     "execution_count": 22,
     "metadata": {},
     "output_type": "execute_result"
    }
   ],
   "source": [
    "interp_fns_vec.shape"
   ]
  },
  {
   "cell_type": "code",
   "execution_count": 23,
   "id": "19a6e592",
   "metadata": {},
   "outputs": [
    {
     "data": {
      "text/plain": [
       "(500,)"
      ]
     },
     "execution_count": 23,
     "metadata": {},
     "output_type": "execute_result"
    }
   ],
   "source": [
    "interp_fns.shape"
   ]
  },
  {
   "cell_type": "code",
   "execution_count": 24,
   "id": "fc9f32cb",
   "metadata": {},
   "outputs": [
    {
     "data": {
      "text/plain": [
       "array([False, False, False, False, False, False, False, False, False,\n",
       "       False, False, False, False, False, False, False, False, False,\n",
       "       False, False, False, False, False, False, False, False, False,\n",
       "       False, False, False, False, False, False, False, False, False,\n",
       "       False, False, False, False, False, False, False, False, False,\n",
       "       False, False, False, False, False, False, False, False, False,\n",
       "       False, False, False, False, False, False, False, False, False,\n",
       "       False, False, False, False, False, False, False, False, False,\n",
       "       False, False, False, False, False, False, False, False, False,\n",
       "       False, False, False, False, False, False, False, False, False,\n",
       "       False, False, False, False, False, False, False, False, False,\n",
       "       False, False, False, False, False, False, False, False, False,\n",
       "       False, False, False, False, False, False, False, False, False,\n",
       "       False, False, False, False, False, False, False, False, False,\n",
       "       False, False, False, False, False, False, False, False, False,\n",
       "       False, False, False, False, False, False, False, False, False,\n",
       "       False, False, False, False, False, False, False, False, False,\n",
       "       False, False, False, False, False, False, False, False, False,\n",
       "       False, False, False, False, False, False, False, False, False,\n",
       "       False, False, False, False, False, False, False, False, False,\n",
       "       False, False, False, False, False, False, False, False, False,\n",
       "       False, False, False, False, False, False, False, False, False,\n",
       "       False, False, False, False, False, False, False, False, False,\n",
       "       False, False, False, False, False, False, False, False, False,\n",
       "       False, False, False, False, False, False, False, False, False,\n",
       "       False, False, False, False, False, False, False, False, False,\n",
       "       False, False, False, False, False, False, False, False, False,\n",
       "       False, False, False, False, False, False, False, False, False,\n",
       "       False, False, False, False, False, False, False, False, False,\n",
       "       False, False, False, False, False, False, False, False, False,\n",
       "       False, False, False, False, False, False, False, False, False,\n",
       "       False, False, False, False, False, False, False, False, False,\n",
       "       False, False, False, False, False, False, False, False, False,\n",
       "       False, False, False, False, False, False, False, False, False,\n",
       "       False, False, False, False, False, False, False, False, False,\n",
       "       False, False, False, False, False, False, False, False, False,\n",
       "       False, False, False, False, False, False, False, False, False,\n",
       "       False, False, False, False, False, False, False, False, False,\n",
       "       False, False, False, False, False, False, False, False, False,\n",
       "       False, False, False, False, False, False, False, False, False,\n",
       "       False, False, False, False, False, False, False, False, False,\n",
       "       False, False, False, False, False, False, False, False, False,\n",
       "       False, False, False, False, False, False, False, False, False,\n",
       "       False, False, False, False, False, False, False, False, False,\n",
       "       False, False, False, False, False, False, False, False, False,\n",
       "       False, False, False, False, False, False, False, False, False,\n",
       "       False, False, False, False, False, False, False, False, False,\n",
       "       False, False, False, False, False, False, False, False, False,\n",
       "       False, False, False, False, False, False, False, False, False,\n",
       "       False, False, False, False, False, False, False, False, False,\n",
       "       False, False, False, False, False, False, False, False, False,\n",
       "       False, False, False, False, False, False, False, False, False,\n",
       "       False, False, False, False, False, False, False, False, False,\n",
       "       False, False, False, False, False, False, False, False, False,\n",
       "       False, False, False, False, False, False, False, False, False,\n",
       "       False, False, False, False, False])"
      ]
     },
     "execution_count": 24,
     "metadata": {},
     "output_type": "execute_result"
    }
   ],
   "source": [
    "interp_fns==interp_fns_vec"
   ]
  },
  {
   "cell_type": "code",
   "execution_count": null,
   "id": "917528ba",
   "metadata": {},
   "outputs": [],
   "source": []
  }
 ],
 "metadata": {
  "kernelspec": {
   "display_name": "Python 3 (ipykernel)",
   "language": "python",
   "name": "python3"
  },
  "language_info": {
   "codemirror_mode": {
    "name": "ipython",
    "version": 3
   },
   "file_extension": ".py",
   "mimetype": "text/x-python",
   "name": "python",
   "nbconvert_exporter": "python",
   "pygments_lexer": "ipython3",
   "version": "3.10.9"
  }
 },
 "nbformat": 4,
 "nbformat_minor": 5
}
