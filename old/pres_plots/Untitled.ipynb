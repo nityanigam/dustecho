{
 "cells": [
  {
   "cell_type": "code",
   "execution_count": 36,
   "id": "69f79d4a",
   "metadata": {},
   "outputs": [
    {
     "name": "stdout",
     "output_type": "stream",
     "text": [
      "Filename: nH1.0e+00_lam1.14um_theobs0.00_Ldnu_xcentr.txt, lam: 1.14, theobs: 0.0\n",
      "10292728.3 41170913200.0 200.0\n",
      "Filename: nH1.0e+00_lam1.39um_theobs0.00_Ldnu_xcentr.txt, lam: 1.39, theobs: 0.0\n",
      "10292728.3 41170913200.0 200.0\n",
      "Filename: nH1.0e+00_lam1.54um_theobs0.00_Ldnu_xcentr.txt, lam: 1.54, theobs: 0.0\n",
      "10292728.3 41170913200.0 200.0\n",
      "5.133333333333333e+23\n"
     ]
    },
    {
     "data": {
      "image/png": "[encoded data removed]",
      "text/plain": [
       "<Figure size 614.4x460.8 with 1 Axes>"
      ]
     },
     "metadata": {},
     "output_type": "display_data"
    },
    {
     "data": {
      "text/plain": [
       "'\\nif __name__ == \"__main__\":\\n    if len(sys.argv) != 2:\\n        print(\"Usage: python3 script_file.py data_file.txt\")\\n    else:\\n        filename = sys.argv[1]\\n        main(filename)\\n'"
      ]
     },
     "execution_count": 36,
     "metadata": {},
     "output_type": "execute_result"
    },
    {
     "data": {
      "text/plain": [
       "<Figure size 614.4x460.8 with 0 Axes>"
      ]
     },
     "metadata": {},
     "output_type": "display_data"
    }
   ],
   "source": [
    "import numpy as np\n",
    "from matplotlib import pyplot as plt\n",
    "import matplotlib\n",
    "import sys\n",
    "import re\n",
    "\n",
    "CUSTOM_PLOT_STYLE = {\n",
    "    \"text.usetex\": True,\n",
    "\n",
    "    \"font.family\": \"serif\",\n",
    "    \"font.size\": 16,\n",
    "\n",
    "    # Set some default sizes, so we don't need to include them in each call\n",
    "    \"lines.markersize\": 1.5,\n",
    "    \"lines.linewidth\": 1.5,\n",
    "    # \"errorbar.capsize\": 3,\n",
    "\n",
    "    # Set savefig to use bbox_inches=\"tight\" by default\n",
    "    \"savefig.bbox\": \"tight\",\n",
    "    \"savefig.facecolor\": \"none\",\n",
    "    \"savefig.dpi\": 300,\n",
    "\n",
    "    # Higher DPI for sharper inline images\n",
    "    \"figure.dpi\": 96\n",
    "}\n",
    "\n",
    "matplotlib.rcdefaults()\n",
    "matplotlib.rcParams.update(CUSTOM_PLOT_STYLE)\n",
    "\n",
    "# Define the regular expression pattern\n",
    "pattern = r'nH[0-9\\.e\\+\\-]+_lam([0-9\\.e\\+\\-]+)um_theobs([0-9\\.e\\+\\-]+)_Ldnu_xcentr\\.txt'\n",
    "\n",
    "filenames = [\"nH1.0e+00_lam1.14um_theobs0.00_Ldnu_xcentr.txt\",\n",
    "             \"nH1.0e+00_lam1.39um_theobs0.00_Ldnu_xcentr.txt\",\n",
    "             \"nH1.0e+00_lam1.54um_theobs0.00_Ldnu_xcentr.txt\"]\n",
    "\n",
    "colors = [\"blue\", \"green\", \"red\"]\n",
    "\n",
    "# Function to extract values from filename\n",
    "def extract_values(filename):\n",
    "    match = re.match(pattern, filename)\n",
    "    if match:\n",
    "        lam = float(match.group(1))\n",
    "        theobs = float(match.group(2))\n",
    "        return lam, theobs\n",
    "    else:\n",
    "        return None, None\n",
    "\n",
    "# Initialize the plot\n",
    "fig, ax = plt.subplots()\n",
    "\n",
    "ax.set_xlabel('Time [days]')\n",
    "ax.set_ylabel('$L_{\\\\nu}$ [cgs]')\n",
    "\n",
    "for i in range(len(filenames)):\n",
    "    filename = filenames[i]\n",
    "    if filename.endswith('.txt'):\n",
    "        lam, theobs = extract_values(filename)\n",
    "        if lam is not None and theobs is not None:\n",
    "            print(f'Filename: {filename}, lam: {lam}, theobs: {theobs}')\n",
    "    \n",
    "    with open(filename, 'r') as file:\n",
    "        first_line = file.readline()\n",
    "        first_row_data = first_line.split()[3:]\n",
    "    \n",
    "    # Assign the three floats to variables\n",
    "    tobsmin, tobsmax, Ntobs = map(float, first_row_data)\n",
    "    #tobsmax = tobsmax-tobsmin\n",
    "    print(tobsmin, tobsmax, Ntobs)\n",
    "    # Load the data from the text file\n",
    "    data = np.genfromtxt(filename, dtype=float, skip_header=2, filling_values=np.nan)\n",
    "    \n",
    "    Ldnu_cgs = data[0]\n",
    "    xcentr_pc = data[1]\n",
    "    \n",
    "    log_tobsmin = np.log10(tobsmin)\n",
    "    log_tobsmax = np.log10(tobsmax)\n",
    "    \n",
    "    # Create the logarithmic space with normalized values\n",
    "    tobs = np.logspace(log_tobsmin, log_tobsmax, num=int(Ntobs), base=10)\n",
    "    tobs = tobs/(60*60*24)\n",
    "\n",
    "    ax.plot(tobs, Ldnu_cgs, color=colors[i], label=\"$\\\\lambda = $\"+str(lam)+\"$\\\\mu$m\")\n",
    "\n",
    "L_cutoff = 10**38/(3*10**8*10**6/lam)\n",
    "\n",
    "plt.title(\"Spherically distributed dust\")\n",
    "plt.legend()\n",
    "#plt.xlim(left=0, right=50000)\n",
    "print(L_cutoff)\n",
    "#plt.ylim(bottom=L_cutoff)\n",
    "fig.tight_layout()  # Ensure the plot layout is tidy\n",
    "plt.show()   \n",
    "\n",
    "plotfile=\"plot_l\"+str(lam)+\"theobs\"+str(theobs)+\".png\"\n",
    "plt.savefig(\"newplot.pdf\")\n",
    "\n",
    "\"\"\"\n",
    "if __name__ == \"__main__\":\n",
    "    if len(sys.argv) != 2:\n",
    "        print(\"Usage: python3 script_file.py data_file.txt\")\n",
    "    else:\n",
    "        filename = sys.argv[1]\n",
    "        main(filename)\n",
    "\"\"\"\n"
   ]
  },
  {
   "cell_type": "code",
   "execution_count": null,
   "id": "833ed268",
   "metadata": {},
   "outputs": [],
   "source": []
  }
 ],
 "metadata": {
  "kernelspec": {
   "display_name": "Python 3 (ipykernel)",
   "language": "python",
   "name": "python3"
  },
  "language_info": {
   "codemirror_mode": {
    "name": "ipython",
    "version": 3
   },
   "file_extension": ".py",
   "mimetype": "text/x-python",
   "name": "python",
   "nbconvert_exporter": "python",
   "pygments_lexer": "ipython3",
   "version": "3.10.9"
  }
 },
 "nbformat": 4,
 "nbformat_minor": 5
}
