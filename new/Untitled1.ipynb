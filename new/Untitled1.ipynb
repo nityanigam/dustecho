{
 "cells": [
  {
   "cell_type": "code",
   "execution_count": 1,
   "id": "83ec65fe-7bf7-4db9-a547-11a52b67bfc3",
   "metadata": {},
   "outputs": [],
   "source": [
    "import numpy as np\n",
    "import const\n",
    "from fpath import *\n",
    "from scipy.interpolate import interp1d\n",
    "from math import pi, log10, sqrt, log, exp, sqrt, atan, cos, sin, acos, asin"
   ]
  },
  {
   "cell_type": "code",
   "execution_count": 2,
   "id": "1bc3d103-9541-40f2-bb28-718f42b401d9",
   "metadata": {},
   "outputs": [],
   "source": [
    "# adjustable parameters\n",
    "nH0 = 1                # [cm^-3] H number density\n",
    "tmax = 300.     # [s], duration of the source\n",
    "LUV = 3e47      # [erg/s]  # source luminosity\n",
    "\n",
    "# fixed parameters\n",
    "tmin = 0.\n",
    "n0_over_nH = 1.45e-15    # dust number density over H number density\n",
    "lam0 = 2.       # [um] critical wavelength for Qabs_lambda\n",
    "thej = 4*pi/180     # [rad] jet opening angle\n",
    "p = 2.2         # electron PL index => spectrum L_nu ~ nu^{(1-p)/2}\n",
    "nuUVmax = 50/const.erg2eV/const.H_PLANCK   # maximum UV frequency 50 eV\n",
    "LnuUVmax = (3-p)/2*LUV/nuUVmax   # Lnu at nuUVmax"
   ]
  },
  {
   "cell_type": "code",
   "execution_count": 3,
   "id": "863c3702-7bc3-45b9-9ccb-167e3278c426",
   "metadata": {},
   "outputs": [],
   "source": [
    "amin, amax = 0.01, 0.3      # um, grain size limits\n",
    "Na = 30\n",
    "aarr = np.logspace(log10(amin), log10(amax), Na)\n",
    "a_ratio = aarr[1]/aarr[0]\n",
    "\n",
    "rmin, rmax = 0.4, 100.       # pc, radial layers\n",
    "Nr = 150     # we need dr/r <~ thej to resolve the light curve of the echo\n",
    "rarr = np.logspace(log10(rmin), log10(rmax), Nr)\n",
    "r_ratio = rarr[1]/rarr[0]\n",
    "\n",
    "# min and max source frequencies\n",
    "numin, numax = 0.1/(const.erg2eV*const.H_PLANCK), 50/(const.erg2eV*const.H_PLANCK)\n",
    "Nnu = 40\n",
    "nuarr = np.logspace(log10(numin), log10(numax), Nnu)    # frequency bins\n",
    "nu_ratio = nuarr[1]/nuarr[0]\n",
    "\n",
    "# jet emission time [dust local frame]\n",
    "Nt = 20     # this is the dimension we interpolate over\n",
    "tarr = np.linspace(tmin, tmax, Nt, endpoint=False)\n",
    "dt = tarr[1] - tarr[0]\n",
    "tarr += dt/2.\n",
    "\n",
    "Tarr = np.zeros((Nt, Nr, Na), dtype=float)   # to store the dust temperature\n",
    "asubarr = np.zeros((Nt, Nr), dtype=float)    # to store sublimation radii\n",
    "taudarr = np.zeros((Nnu, Nr), dtype=float)   # dust extinction optical depth at each nu"
   ]
  },
  {
   "cell_type": "code",
   "execution_count": 4,
   "id": "39576aa6-785e-4a64-a6ed-6460da970f6a",
   "metadata": {},
   "outputs": [],
   "source": [
    "def func_Lnu(t, nu):     # source spectrum and light curve\n",
    "    if t < tmax:\n",
    "        return LnuUVmax*(nu/nuUVmax)**((1 - p)/2)  # spectrum L_nu ~ nu^{(1-p)/2}\n",
    "    return 0."
   ]
  },
  {
   "cell_type": "code",
   "execution_count": 5,
   "id": "8a89d3f8-1496-4937-abe7-008b97d834a6",
   "metadata": {},
   "outputs": [],
   "source": [
    "def func_nH(r):      # gas density profile (r in pc)\n",
    "    return nH0"
   ]
  },
  {
   "cell_type": "code",
   "execution_count": 6,
   "id": "4531239f-d9b1-498d-8551-54e5d2ab1a41",
   "metadata": {},
   "outputs": [],
   "source": [
    "def func_Qabs(nu, a):      # absorption efficiency for grain size a [um]\n",
    "    lam = const.C_LIGHT/nu * 1e4    # wavelength in um\n",
    "    return 1./(1 + (lam/lam0)**2 / a)"
   ]
  },
  {
   "cell_type": "code",
   "execution_count": 7,
   "id": "761c83f4-260c-4c28-97ee-dd41be626bfd",
   "metadata": {},
   "outputs": [],
   "source": [
    "def func_T(qdot_h, aum):    # solve the heating and cooling balance for T\n",
    "    y = qdot_h/(7.12576*aum**2)\n",
    "    if y >= (31.5/aum)**2/12:\n",
    "        return 3240/sqrt(aum)   # the grain should evaporate immediately\n",
    "    xi = sqrt((31.5/aum)**2 - 12*y) + 31.5/aum\n",
    "    T3 = sqrt((2*y*y/3/xi)**(1./3) + (xi*y/18)**(1./3))\n",
    "    return 1000*T3"
   ]
  },
  {
   "cell_type": "code",
   "execution_count": 8,
   "id": "4d76874b-0764-4d40-bc85-54310bf5488c",
   "metadata": {},
   "outputs": [],
   "source": [
    "# compute cumulative number of H as a function of radius\n",
    "Nr_fine = int(Nr*10)\n",
    "rarr_fine = np.logspace(log10(rmin/10), log10(rmax), Nr_fine)\n",
    "r_ratio_fine = rarr_fine[1]/rarr_fine[0]\n",
    "NHarr_fine = np.zeros(Nr_fine, dtype=float)\n",
    "NH = 0.     # total H number\n",
    "for i in range(Nr_fine):\n",
    "    r = rarr_fine[i]\n",
    "    dr = r * (sqrt(r_ratio_fine) - 1/sqrt(r_ratio_fine))\n",
    "    NH += 4*pi*r*r*dr*const.pc2cm**3 * func_nH(r)\n",
    "    NHarr_fine[i] = NH\n",
    "r_NH_intp = interp1d(rarr_fine, NHarr_fine, fill_value='extrapolate')"
   ]
  },
  {
   "cell_type": "code",
   "execution_count": 9,
   "id": "c3ffde39-de9f-4ff0-9b37-ca67e5bf0c9b",
   "metadata": {},
   "outputs": [
    {
     "data": {
      "text/plain": [
       "array([1.23330854e+50, 2.48608086e+50, 3.75862415e+50, ...,\n",
       "       1.20208641e+62, 1.22105746e+62, 1.24032791e+62], shape=(1500,))"
      ]
     },
     "execution_count": 9,
     "metadata": {},
     "output_type": "execute_result"
    }
   ],
   "source": [
    "NHarr_fine"
   ]
  },
  {
   "cell_type": "code",
   "execution_count": 10,
   "id": "218d030b-f962-4737-8967-85d1449d4862",
   "metadata": {},
   "outputs": [
    {
     "data": {
      "text/plain": [
       "[<matplotlib.lines.Line2D at 0x7f46955f54c0>]"
      ]
     },
     "execution_count": 10,
     "metadata": {},
     "output_type": "execute_result"
    },
    {
     "data": {
      "image/png": "[encoded data removed]",
      "text/plain": [
       "<Figure size 640x480 with 1 Axes>"
      ]
     },
     "metadata": {},
     "output_type": "display_data"
    }
   ],
   "source": [
    "from matplotlib import pyplot as plt\n",
    "plt.plot(NHarr_fine)"
   ]
  },
  {
   "cell_type": "code",
   "execution_count": 11,
   "id": "8cb79b1e-2f11-4eed-897b-624438f0b658",
   "metadata": {},
   "outputs": [],
   "source": [
    "# compute cumulative number of ionizing photons as a function of time\n",
    "Nt_fine = int(Nt*20)\n",
    "tarr_fine = np.linspace(tmin, tmax, Nt_fine)\n",
    "dt_fine = tarr_fine[1] - tarr_fine[0]\n",
    "tarr_fine += dt_fine/2.\n",
    "Nionarr_fine = np.zeros(Nt_fine, dtype=float)   # cumulative number of ionizing photons\n",
    "Nnu_fine = int(Nnu*5)\n",
    "nu_ion_min, nu_ion_max = 13.6/(const.erg2eV*const.H_PLANCK), 100/(const.erg2eV*const.H_PLANCK)\n",
    "nuarr_fine = np.logspace(log10(nu_ion_min), log10(nu_ion_max), Nnu_fine)\n",
    "nu_ratio_fine = nuarr_fine[1]/nuarr_fine[0]\n",
    "\n",
    "Nion = 0.\n",
    "for i in range(Nt_fine):\n",
    "    t = tarr_fine[i]\n",
    "    Lion = 0.\n",
    "    for j in range(Nnu):\n",
    "        nu = nuarr_fine[j]\n",
    "        dnu = nu * (sqrt(nu_ratio_fine) - 1/sqrt(nu_ratio_fine))\n",
    "        Lion += dnu * func_Lnu(t, nu)/(const.H_PLANCK*nu)\n",
    "    Nion += Lion*dt_fine\n",
    "    Nionarr_fine[i] = Nion\n",
    "Nion_t_intp = interp1d(Nionarr_fine, tarr_fine, fill_value='extrapolate')"
   ]
  },
  {
   "cell_type": "code",
   "execution_count": 12,
   "id": "acf5a724-73f4-4ec5-a691-ecff5e10a94f",
   "metadata": {},
   "outputs": [
    {
     "data": {
      "text/plain": [
       "array([8.79395522e+56, 1.75879104e+57, 2.63818656e+57, 3.51758209e+57,\n",
       "       4.39697761e+57, 5.27637313e+57, 6.15576865e+57, 7.03516417e+57,\n",
       "       7.91455969e+57, 8.79395522e+57, 9.67335074e+57, 1.05527463e+58,\n",
       "       1.14321418e+58, 1.23115373e+58, 1.31909328e+58, 1.40703283e+58,\n",
       "       1.49497239e+58, 1.58291194e+58, 1.67085149e+58, 1.75879104e+58,\n",
       "       1.84673060e+58, 1.93467015e+58, 2.02260970e+58, 2.11054925e+58,\n",
       "       2.19848880e+58, 2.28642836e+58, 2.37436791e+58, 2.46230746e+58,\n",
       "       2.55024701e+58, 2.63818656e+58, 2.72612612e+58, 2.81406567e+58,\n",
       "       2.90200522e+58, 2.98994477e+58, 3.07788433e+58, 3.16582388e+58,\n",
       "       3.25376343e+58, 3.34170298e+58, 3.42964253e+58, 3.51758209e+58,\n",
       "       3.60552164e+58, 3.69346119e+58, 3.78140074e+58, 3.86934029e+58,\n",
       "       3.95727985e+58, 4.04521940e+58, 4.13315895e+58, 4.22109850e+58,\n",
       "       4.30903806e+58, 4.39697761e+58, 4.48491716e+58, 4.57285671e+58,\n",
       "       4.66079626e+58, 4.74873582e+58, 4.83667537e+58, 4.92461492e+58,\n",
       "       5.01255447e+58, 5.10049403e+58, 5.18843358e+58, 5.27637313e+58,\n",
       "       5.36431268e+58, 5.45225223e+58, 5.54019179e+58, 5.62813134e+58,\n",
       "       5.71607089e+58, 5.80401044e+58, 5.89194999e+58, 5.97988955e+58,\n",
       "       6.06782910e+58, 6.15576865e+58, 6.24370820e+58, 6.33164776e+58,\n",
       "       6.41958731e+58, 6.50752686e+58, 6.59546641e+58, 6.68340596e+58,\n",
       "       6.77134552e+58, 6.85928507e+58, 6.94722462e+58, 7.03516417e+58,\n",
       "       7.12310372e+58, 7.21104328e+58, 7.29898283e+58, 7.38692238e+58,\n",
       "       7.47486193e+58, 7.56280149e+58, 7.65074104e+58, 7.73868059e+58,\n",
       "       7.82662014e+58, 7.91455969e+58, 8.00249925e+58, 8.09043880e+58,\n",
       "       8.17837835e+58, 8.26631790e+58, 8.35425745e+58, 8.44219701e+58,\n",
       "       8.53013656e+58, 8.61807611e+58, 8.70601566e+58, 8.79395522e+58,\n",
       "       8.88189477e+58, 8.96983432e+58, 9.05777387e+58, 9.14571342e+58,\n",
       "       9.23365298e+58, 9.32159253e+58, 9.40953208e+58, 9.49747163e+58,\n",
       "       9.58541119e+58, 9.67335074e+58, 9.76129029e+58, 9.84922984e+58,\n",
       "       9.93716939e+58, 1.00251089e+59, 1.01130485e+59, 1.02009881e+59,\n",
       "       1.02889276e+59, 1.03768672e+59, 1.04648067e+59, 1.05527463e+59,\n",
       "       1.06406858e+59, 1.07286254e+59, 1.08165649e+59, 1.09045045e+59,\n",
       "       1.09924440e+59, 1.10803836e+59, 1.11683231e+59, 1.12562627e+59,\n",
       "       1.13442022e+59, 1.14321418e+59, 1.15200813e+59, 1.16080209e+59,\n",
       "       1.16959604e+59, 1.17839000e+59, 1.18718395e+59, 1.19597791e+59,\n",
       "       1.20477186e+59, 1.21356582e+59, 1.22235977e+59, 1.23115373e+59,\n",
       "       1.23994769e+59, 1.24874164e+59, 1.25753560e+59, 1.26632955e+59,\n",
       "       1.27512351e+59, 1.28391746e+59, 1.29271142e+59, 1.30150537e+59,\n",
       "       1.31029933e+59, 1.31909328e+59, 1.32788724e+59, 1.33668119e+59,\n",
       "       1.34547515e+59, 1.35426910e+59, 1.36306306e+59, 1.37185701e+59,\n",
       "       1.38065097e+59, 1.38944492e+59, 1.39823888e+59, 1.40703283e+59,\n",
       "       1.41582679e+59, 1.42462074e+59, 1.43341470e+59, 1.44220866e+59,\n",
       "       1.45100261e+59, 1.45979657e+59, 1.46859052e+59, 1.47738448e+59,\n",
       "       1.48617843e+59, 1.49497239e+59, 1.50376634e+59, 1.51256030e+59,\n",
       "       1.52135425e+59, 1.53014821e+59, 1.53894216e+59, 1.54773612e+59,\n",
       "       1.55653007e+59, 1.56532403e+59, 1.57411798e+59, 1.58291194e+59,\n",
       "       1.59170589e+59, 1.60049985e+59, 1.60929380e+59, 1.61808776e+59,\n",
       "       1.62688171e+59, 1.63567567e+59, 1.64446963e+59, 1.65326358e+59,\n",
       "       1.66205754e+59, 1.67085149e+59, 1.67964545e+59, 1.68843940e+59,\n",
       "       1.69723336e+59, 1.70602731e+59, 1.71482127e+59, 1.72361522e+59,\n",
       "       1.73240918e+59, 1.74120313e+59, 1.74999709e+59, 1.75879104e+59,\n",
       "       1.76758500e+59, 1.77637895e+59, 1.78517291e+59, 1.79396686e+59,\n",
       "       1.80276082e+59, 1.81155477e+59, 1.82034873e+59, 1.82914268e+59,\n",
       "       1.83793664e+59, 1.84673060e+59, 1.85552455e+59, 1.86431851e+59,\n",
       "       1.87311246e+59, 1.88190642e+59, 1.89070037e+59, 1.89949433e+59,\n",
       "       1.90828828e+59, 1.91708224e+59, 1.92587619e+59, 1.93467015e+59,\n",
       "       1.94346410e+59, 1.95225806e+59, 1.96105201e+59, 1.96984597e+59,\n",
       "       1.97863992e+59, 1.98743388e+59, 1.99622783e+59, 2.00502179e+59,\n",
       "       2.01381574e+59, 2.02260970e+59, 2.03140365e+59, 2.04019761e+59,\n",
       "       2.04899157e+59, 2.05778552e+59, 2.06657948e+59, 2.07537343e+59,\n",
       "       2.08416739e+59, 2.09296134e+59, 2.10175530e+59, 2.11054925e+59,\n",
       "       2.11934321e+59, 2.12813716e+59, 2.13693112e+59, 2.14572507e+59,\n",
       "       2.15451903e+59, 2.16331298e+59, 2.17210694e+59, 2.18090089e+59,\n",
       "       2.18969485e+59, 2.19848880e+59, 2.20728276e+59, 2.21607671e+59,\n",
       "       2.22487067e+59, 2.23366462e+59, 2.24245858e+59, 2.25125254e+59,\n",
       "       2.26004649e+59, 2.26884045e+59, 2.27763440e+59, 2.28642836e+59,\n",
       "       2.29522231e+59, 2.30401627e+59, 2.31281022e+59, 2.32160418e+59,\n",
       "       2.33039813e+59, 2.33919209e+59, 2.34798604e+59, 2.35678000e+59,\n",
       "       2.36557395e+59, 2.37436791e+59, 2.38316186e+59, 2.39195582e+59,\n",
       "       2.40074977e+59, 2.40954373e+59, 2.41833768e+59, 2.42713164e+59,\n",
       "       2.43592559e+59, 2.44471955e+59, 2.45351351e+59, 2.46230746e+59,\n",
       "       2.47110142e+59, 2.47989537e+59, 2.48868933e+59, 2.49748328e+59,\n",
       "       2.50627724e+59, 2.51507119e+59, 2.52386515e+59, 2.53265910e+59,\n",
       "       2.54145306e+59, 2.55024701e+59, 2.55904097e+59, 2.56783492e+59,\n",
       "       2.57662888e+59, 2.58542283e+59, 2.59421679e+59, 2.60301074e+59,\n",
       "       2.61180470e+59, 2.62059865e+59, 2.62939261e+59, 2.63818656e+59,\n",
       "       2.64698052e+59, 2.65577448e+59, 2.66456843e+59, 2.67336239e+59,\n",
       "       2.68215634e+59, 2.69095030e+59, 2.69974425e+59, 2.70853821e+59,\n",
       "       2.71733216e+59, 2.72612612e+59, 2.73492007e+59, 2.74371403e+59,\n",
       "       2.75250798e+59, 2.76130194e+59, 2.77009589e+59, 2.77888985e+59,\n",
       "       2.78768380e+59, 2.79647776e+59, 2.80527171e+59, 2.81406567e+59,\n",
       "       2.82285962e+59, 2.83165358e+59, 2.84044753e+59, 2.84924149e+59,\n",
       "       2.85803545e+59, 2.86682940e+59, 2.87562336e+59, 2.88441731e+59,\n",
       "       2.89321127e+59, 2.90200522e+59, 2.91079918e+59, 2.91959313e+59,\n",
       "       2.92838709e+59, 2.93718104e+59, 2.94597500e+59, 2.95476895e+59,\n",
       "       2.96356291e+59, 2.97235686e+59, 2.98115082e+59, 2.98994477e+59,\n",
       "       2.99873873e+59, 3.00753268e+59, 3.01632664e+59, 3.02512059e+59,\n",
       "       3.03391455e+59, 3.04270850e+59, 3.05150246e+59, 3.06029642e+59,\n",
       "       3.06909037e+59, 3.07788433e+59, 3.08667828e+59, 3.09547224e+59,\n",
       "       3.10426619e+59, 3.11306015e+59, 3.12185410e+59, 3.13064806e+59,\n",
       "       3.13944201e+59, 3.14823597e+59, 3.15702992e+59, 3.16582388e+59,\n",
       "       3.17461783e+59, 3.18341179e+59, 3.19220574e+59, 3.20099970e+59,\n",
       "       3.20979365e+59, 3.21858761e+59, 3.22738156e+59, 3.23617552e+59,\n",
       "       3.24496947e+59, 3.25376343e+59, 3.26255739e+59, 3.27135134e+59,\n",
       "       3.28014530e+59, 3.28893925e+59, 3.29773321e+59, 3.30652716e+59,\n",
       "       3.31532112e+59, 3.32411507e+59, 3.33290903e+59, 3.34170298e+59,\n",
       "       3.35049694e+59, 3.35929089e+59, 3.36808485e+59, 3.37687880e+59,\n",
       "       3.38567276e+59, 3.39446671e+59, 3.40326067e+59, 3.41205462e+59,\n",
       "       3.42084858e+59, 3.42964253e+59, 3.43843649e+59, 3.44723044e+59,\n",
       "       3.45602440e+59, 3.46481836e+59, 3.47361231e+59, 3.48240627e+59,\n",
       "       3.49120022e+59, 3.49999418e+59, 3.50878813e+59, 3.50878813e+59])"
      ]
     },
     "execution_count": 12,
     "metadata": {},
     "output_type": "execute_result"
    }
   ],
   "source": [
    "Nionarr_fine"
   ]
  },
  {
   "cell_type": "code",
   "execution_count": 13,
   "id": "ea8c7221-3d70-49be-8bcd-a11c00739c67",
   "metadata": {},
   "outputs": [],
   "source": [
    "# calculate dust temperature at a given time\n",
    "def calculate_all_T(t, i_t, rion, Tarr, asubarr, taudarr):\n",
    "    for j in range(Nr):\n",
    "        r = rarr[j]\n",
    "        asub = amin\n",
    "        for k in range(Na):\n",
    "            a = aarr[k]\n",
    "            # calculate heating rate divided by pi*a^2\n",
    "            qdot_h_over_pia2 = 0.\n",
    "            for m in range(Nnu):\n",
    "                nu = nuarr[m]\n",
    "                dnu = nu * (sqrt(nu_ratio) - 1./sqrt(nu_ratio))\n",
    "                if r < rion and nu > nu_ion_min:\n",
    "                    break   # no photons above 13.6 eV ar r > rion\n",
    "                qdot_h_over_pia2 += dnu * func_Lnu(t, nu) * exp(-taudarr[m, j])\\\n",
    "                                    /(4*pi*r*r*const.pc2cm**2) * func_Qabs(nu, a)\n",
    "            qdot_h = qdot_h_over_pia2 * pi * a**2 * 1e-8    # heating rate [cgs]\n",
    "            T = func_T(qdot_h, a)\n",
    "            Tsub = 2.33e3 * (1 - 0.033*log(t/100./a))\n",
    "            if T > Tsub:    # grains in this size bin have already evaporated\n",
    "                asub = min(max(asub, a), amax)\n",
    "                Tarr[i_t, j, k] = 0.   # no emission from this size bin\n",
    "            else:   # grains survive\n",
    "                Tarr[i_t, j, k] = T\n",
    "        if i_t == 0:\n",
    "            asubarr[i_t, j] = asub\n",
    "        else:   # make sure asub does not decrease with time\n",
    "            asubarr[i_t, j] = max(asub, asubarr[i_t-1, j])\n",
    "    return"
   ]
  },
  {
   "cell_type": "code",
   "execution_count": 14,
   "id": "cedf0bda-45c5-4da0-8f9b-f43203f98a78",
   "metadata": {},
   "outputs": [],
   "source": [
    "def calculate_taudarr(i_t, asubarr, taudarr):\n",
    "    for m in range(Nnu):\n",
    "        nu = nuarr[m]\n",
    "        lam = const.C_LIGHT/nu*1e4   # in um\n",
    "        xmax = amax * (lam0/lam)**2\n",
    "        tau_pre_factor = 2*sqrt(2)*pi*1e-8*n0_over_nH*lam0/lam\n",
    "        taud = 0.\n",
    "        for j in range(Nr):\n",
    "            r = rarr[j]\n",
    "            dr = r * (sqrt(r_ratio) - 1./sqrt(r_ratio))\n",
    "            xsub = asubarr[i_t, j] * (lam0/lam)**2\n",
    "            taud += tau_pre_factor * dr * const.pc2cm * func_nH(r) \\\n",
    "                    * (atan(sqrt(0.5*xmax)) - atan(sqrt(0.5*xsub)))\n",
    "            taudarr[m, j] = taud\n",
    "    return"
   ]
  },
  {
   "cell_type": "code",
   "execution_count": 22,
   "id": "e18c4929-3a8c-40d5-996f-e634ae92cc35",
   "metadata": {},
   "outputs": [
    {
     "data": {
      "text/plain": [
       "array([[  0.        ,   0.        ,   0.        , ...,   0.        ,\n",
       "          0.        ,   0.        ],\n",
       "       [  0.        ,   0.        ,   0.        , ...,   0.        ,\n",
       "          0.        ,   0.        ],\n",
       "       [  0.        ,   0.        ,   0.        , ...,   0.        ,\n",
       "          0.        ,   0.        ],\n",
       "       ...,\n",
       "       [797.52060144, 784.45267672, 771.5143842 , ..., 497.33192489,\n",
       "        488.40403263, 479.62825706],\n",
       "       [787.72419595, 774.81629005, 762.03639874, ..., 491.19340658,\n",
       "        482.37299632, 473.70270455],\n",
       "       [778.04826542, 765.2984287 , 752.67500976, ..., 485.13144951,\n",
       "        476.41727854, 467.85125708]], shape=(150, 30))"
      ]
     },
     "execution_count": 22,
     "metadata": {},
     "output_type": "execute_result"
    }
   ],
   "source": [
    "i = 19\n",
    "t = tarr[i]\n",
    "Nion = Nion_t_intp(t)\n",
    "rion = r_NH_intp(Nion)  # ionization radius\n",
    "taudarr.fill(0)    # first iteration, no dust extinction\n",
    "calculate_all_T(t, i, rion, Tarr, asubarr, taudarr)\n",
    "Tarr[0,:,:]"
   ]
  },
  {
   "cell_type": "code",
   "execution_count": 15,
   "id": "a5f6dfa1-1a41-417a-bf89-f58c160c016b",
   "metadata": {},
   "outputs": [
    {
     "name": "stdout",
     "output_type": "stream",
     "text": [
      "t=7.5 1 iterations\n",
      "t=22.5 1 iterations\n",
      "t=37.5 1 iterations\n",
      "t=52.5 1 iterations\n",
      "t=67.5 2 iterations\n",
      "t=82.5 2 iterations\n",
      "t=97.5 2 iterations\n",
      "t=112.5 2 iterations\n",
      "t=127.5 2 iterations\n",
      "t=142.5 2 iterations\n",
      "t=157.5 2 iterations\n",
      "t=172.5 2 iterations\n",
      "t=187.5 1 iterations\n",
      "t=202.5 1 iterations\n",
      "t=217.5 2 iterations\n",
      "t=232.5 1 iterations\n",
      "t=247.5 2 iterations\n",
      "t=262.5 2 iterations\n",
      "t=277.5 2 iterations\n",
      "t=292.5 1 iterations\n"
     ]
    }
   ],
   "source": [
    "tol = 0.01  # tolerance for asubarr\n",
    "for i in range(Nt):\n",
    "    t = tarr[i]\n",
    "    Nion = Nion_t_intp(t)\n",
    "    rion = r_NH_intp(Nion)  # ionization radius\n",
    "    taudarr.fill(0)    # first iteration, no dust extinction\n",
    "    calculate_all_T(t, i, rion, Tarr, asubarr, taudarr)\n",
    "    frac_diff = 1.  # convergence criterion\n",
    "    n_iter = 0.     # number of iterations\n",
    "    while frac_diff > tol:\n",
    "        n_iter += 1\n",
    "        asubarr_old = np.copy(asubarr[i])\n",
    "        # we go back to calculate dust extinction optical depth\n",
    "        calculate_taudarr(i, asubarr, taudarr)\n",
    "        # then calculate the whole temperature again\n",
    "        calculate_all_T(t, i, rion, Tarr, asubarr, taudarr)\n",
    "        frac_diff = 0.\n",
    "        for j in range(Nr):\n",
    "            frac_diff = max(frac_diff, abs(asubarr_old[j]/asubarr[i, j] - 1))\n",
    "    print('t=%.1f' % t, '%d iterations' % n_iter)"
   ]
  },
  {
   "cell_type": "code",
   "execution_count": 17,
   "id": "3e876e75-bdd9-495c-916e-f68fcdeb0673",
   "metadata": {},
   "outputs": [
    {
     "data": {
      "text/plain": [
       "array([[[  0.        ,   0.        ,   0.        , ...,   0.        ,\n",
       "           0.        ,   0.        ],\n",
       "        [  0.        ,   0.        ,   0.        , ...,   0.        ,\n",
       "           0.        ,   0.        ],\n",
       "        [  0.        ,   0.        ,   0.        , ...,   0.        ,\n",
       "           0.        ,   0.        ],\n",
       "        ...,\n",
       "        [750.14517609, 738.0740899 , 726.12127288, ..., 471.79548149,\n",
       "         463.45593786, 455.25325607],\n",
       "        [739.18766276, 727.30165531, 715.53202866, ..., 465.04828576,\n",
       "         456.83123205, 448.74866705],\n",
       "        [728.32673486, 716.62440771, 705.03658862, ..., 458.36598068,\n",
       "         450.2705019 , 442.30715901]],\n",
       "\n",
       "       [[  0.        ,   0.        ,   0.        , ...,   0.        ,\n",
       "           0.        ,   0.        ],\n",
       "        [  0.        ,   0.        ,   0.        , ...,   0.        ,\n",
       "           0.        ,   0.        ],\n",
       "        [  0.        ,   0.        ,   0.        , ...,   0.        ,\n",
       "           0.        ,   0.        ],\n",
       "        ...,\n",
       "        [750.30046292, 738.22592783, 726.26970456, ..., 471.87648321,\n",
       "         463.53499078, 455.33041407],\n",
       "        [739.34056691, 727.45115901, 715.67817387, ..., 465.12793866,\n",
       "         456.90896333, 448.82452986],\n",
       "        [728.47727489, 716.77159529, 705.18046502, ..., 458.44429417,\n",
       "         450.34692077, 442.38173566]],\n",
       "\n",
       "       [[  0.        ,   0.        ,   0.        , ...,   0.        ,\n",
       "           0.        ,   0.        ],\n",
       "        [  0.        ,   0.        ,   0.        , ...,   0.        ,\n",
       "           0.        ,   0.        ],\n",
       "        [  0.        ,   0.        ,   0.        , ...,   0.        ,\n",
       "           0.        ,   0.        ],\n",
       "        ...,\n",
       "        [750.37032406, 738.29423919, 726.33648525, ..., 471.91294695,\n",
       "         463.57057777, 455.36514851],\n",
       "        [739.40935633, 727.51842042, 715.74392609, ..., 465.16379549,\n",
       "         456.94395563, 448.85868149],\n",
       "        [728.54500094, 716.8378149 , 705.2451967 , ..., 458.47954831,\n",
       "         450.38132251, 442.41530855]],\n",
       "\n",
       "       ...,\n",
       "\n",
       "       [[  0.        ,   0.        ,   0.        , ...,   0.        ,\n",
       "           0.        ,   0.        ],\n",
       "        [  0.        ,   0.        ,   0.        , ...,   0.        ,\n",
       "           0.        ,   0.        ],\n",
       "        [  0.        ,   0.        ,   0.        , ...,   0.        ,\n",
       "           0.        ,   0.        ],\n",
       "        ...,\n",
       "        [750.72325088, 738.63932919, 726.67383552, ..., 472.09709651,\n",
       "         463.75029926, 455.5405643 ],\n",
       "        [739.75686815, 727.85820551, 716.07607999, ..., 465.34487918,\n",
       "         457.12067301, 449.03115324],\n",
       "        [728.88713994, 717.17233622, 705.57219436, ..., 458.65758752,\n",
       "         450.55505672, 442.5848568 ]],\n",
       "\n",
       "       [[  0.        ,   0.        ,   0.        , ...,   0.        ,\n",
       "           0.        ,   0.        ],\n",
       "        [  0.        ,   0.        ,   0.        , ...,   0.        ,\n",
       "           0.        ,   0.        ],\n",
       "        [  0.        ,   0.        ,   0.        , ...,   0.        ,\n",
       "           0.        ,   0.        ],\n",
       "        ...,\n",
       "        [750.73644855, 738.65222205, 726.68642779, ..., 472.10385321,\n",
       "         463.75689095, 455.54699575],\n",
       "        [739.76986198, 727.8708988 , 716.0884769 , ..., 465.35152185,\n",
       "         457.12715299, 449.03747524],\n",
       "        [728.89993149, 717.18483146, 705.58439739, ..., 458.66411693,\n",
       "         450.56142576, 442.5910701 ]],\n",
       "\n",
       "       [[  0.        ,   0.        ,   0.        , ...,   0.        ,\n",
       "           0.        ,   0.        ],\n",
       "        [  0.        ,   0.        ,   0.        , ...,   0.        ,\n",
       "           0.        ,   0.        ],\n",
       "        [  0.        ,   0.        ,   0.        , ...,   0.        ,\n",
       "           0.        ,   0.        ],\n",
       "        ...,\n",
       "        [750.74960744, 738.66509079, 726.69900983, ..., 472.11073394,\n",
       "         463.76360631, 455.5535503 ],\n",
       "        [739.78281921, 727.88356995, 716.10086536, ..., 465.35828819,\n",
       "         457.13375626, 449.04391993],\n",
       "        [728.91268863, 717.19730655, 705.59659377, ..., 458.67076967,\n",
       "         450.56791772, 442.5974057 ]]], shape=(20, 150, 30))"
      ]
     },
     "execution_count": 17,
     "metadata": {},
     "output_type": "execute_result"
    }
   ],
   "source": [
    "Tarr"
   ]
  },
  {
   "cell_type": "code",
   "execution_count": 18,
   "id": "ef90da21-bf3b-43e1-b443-40502f8efea1",
   "metadata": {},
   "outputs": [
    {
     "data": {
      "text/plain": [
       "array([[0.3 , 0.3 , 0.3 , ..., 0.01, 0.01, 0.01],\n",
       "       [0.3 , 0.3 , 0.3 , ..., 0.01, 0.01, 0.01],\n",
       "       [0.3 , 0.3 , 0.3 , ..., 0.01, 0.01, 0.01],\n",
       "       ...,\n",
       "       [0.3 , 0.3 , 0.3 , ..., 0.01, 0.01, 0.01],\n",
       "       [0.3 , 0.3 , 0.3 , ..., 0.01, 0.01, 0.01],\n",
       "       [0.3 , 0.3 , 0.3 , ..., 0.01, 0.01, 0.01]], shape=(20, 150))"
      ]
     },
     "execution_count": 18,
     "metadata": {},
     "output_type": "execute_result"
    }
   ],
   "source": [
    "asubarr"
   ]
  },
  {
   "cell_type": "code",
   "execution_count": null,
   "id": "f9c05998-5f20-4084-946a-7098a86c879f",
   "metadata": {},
   "outputs": [],
   "source": [
    "# write the results into files: Tarr, asubarr\n",
    "savelist = ['Td', 'asub']\n",
    "for i_file in range(len(savelist)):\n",
    "    fname = 'nH%.1e_' % nH0 + savelist[i_file]\n",
    "    with open(savedir+fname + '.txt', 'w') as f:\n",
    "        if savelist[i_file] == 'Td':\n",
    "            f.write('tmin\\ttmax\\tNt\\t%.8e\\t%.8e\\t%d\\tlinear' % (tmin, tmax, Nt))\n",
    "            f.write('\\nrmin\\trmax\\tNr\\t%.8e\\t%.8e\\t%d\\tlog' % (rmin, rmax, Nr))\n",
    "            f.write('\\namin\\tamax\\tNa\\t%.8e\\t%.8e\\t%d\\tlog' % (amin, amax, Na))\n",
    "            f.write('\\n')\n",
    "            for i in range(Nt):\n",
    "                t = tarr[i]\n",
    "                f.write('\\ni=%d, t=%.8e' % (i, t))\n",
    "                for j in range(Nr):\n",
    "                    f.write('\\n')\n",
    "                    for k in range(Na):\n",
    "                        if k == 0:\n",
    "                            f.write('%.8e' % Tarr[i, j, k])\n",
    "                        else:\n",
    "                            f.write('\\t%.8e' % Tarr[i, j, k])\n",
    "        elif savelist[i_file] == 'asub':\n",
    "            f.write('tmin\\ttmax\\tNt\\t%.8e\\t%.8e\\t%d\\tlog' % (tmin, tmax, Nt))\n",
    "            f.write('\\nrmin\\trmax\\tNr\\t%.8e\\t%.8e\\t%d\\tlog' % (rmin, rmax, Nr))\n",
    "            f.write('\\n')\n",
    "            for i in range(Nt):\n",
    "                f.write('\\n')\n",
    "                for j in range(Nr):\n",
    "                    if j == 0:\n",
    "                        f.write('%.8e' % asubarr[i, j])\n",
    "                    else:\n",
    "                        f.write('\\t%.8e' % asubarr[i, j])"
   ]
  }
 ],
 "metadata": {
  "kernelspec": {
   "display_name": "Python 3 (ipykernel)",
   "language": "python",
   "name": "python3"
  },
  "language_info": {
   "codemirror_mode": {
    "name": "ipython",
    "version": 3
   },
   "file_extension": ".py",
   "mimetype": "text/x-python",
   "name": "python",
   "nbconvert_exporter": "python",
   "pygments_lexer": "ipython3",
   "version": "3.12.6"
  }
 },
 "nbformat": 4,
 "nbformat_minor": 5
}
