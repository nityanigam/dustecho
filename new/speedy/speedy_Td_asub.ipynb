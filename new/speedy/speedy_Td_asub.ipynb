{
 "cells": [
  {
   "cell_type": "code",
   "execution_count": 1,
   "id": "71b70443-0015-499b-82a2-cd515f25fbcb",
   "metadata": {},
   "outputs": [],
   "source": [
    "import numpy as np\n",
    "import numpy as np\n",
    "import const\n",
    "from fpath import *\n",
    "from scipy.interpolate import interp1d\n",
    "from scipy.interpolate import griddata\n",
    "from math import pi, log10, sqrt, log, exp, sqrt, atan, cos, sin, acos, asin"
   ]
  },
  {
   "cell_type": "code",
   "execution_count": 2,
   "id": "e247d528-21a6-47ab-9cf2-38e1bc764e15",
   "metadata": {},
   "outputs": [],
   "source": [
    "# adjustable parameters\n",
    "nH0 = 1                # [cm^-3] H number density\n",
    "tmax = 300.     # [s], duration of the source\n",
    "LUV = 3e47      # [erg/s]  # source luminosity"
   ]
  },
  {
   "cell_type": "code",
   "execution_count": 3,
   "id": "db287ac6-2de2-40d1-86da-9c7a13064093",
   "metadata": {},
   "outputs": [],
   "source": [
    "# fixed parameters\n",
    "tmin = 0.\n",
    "n0_over_nH = 1.45e-15    # dust number density over H number density\n",
    "lam0 = 2.       # [um] critical wavelength for Qabs_lambda\n",
    "thej = pi/2     # [rad] jet opening angle\n",
    "p = 2.2         # electron PL index => spectrum L_nu ~ nu^{(1-p)/2}\n",
    "nuUVmax = 50/const.erg2eV/const.H_PLANCK   # maximum UV frequency 50 eV\n",
    "LnuUVmax = (3-p)/2*LUV/nuUVmax   # Lnu at nuUVmax"
   ]
  },
  {
   "cell_type": "code",
   "execution_count": 4,
   "id": "f020e4b0-f131-4601-907e-9343906d92ca",
   "metadata": {},
   "outputs": [],
   "source": [
    "amin, amax = 0.01, 0.3      # um, grain size limits\n",
    "Na = 30\n",
    "aarr = np.logspace(log10(amin), log10(amax), Na)\n",
    "a_ratio = aarr[1]/aarr[0]\n",
    "\n",
    "rmin, rmax = 0.4, 100.       # pc, radial layers\n",
    "Nr = 150     # we need dr/r <~ thej to resolve the light curve of the echo\n",
    "rarr = np.logspace(log10(rmin), log10(rmax), Nr)\n",
    "r_ratio = rarr[1]/rarr[0]\n",
    "\n",
    "#THIS IS NEW\n",
    "themin, themax = 0.000001, pi    #theta array\n",
    "Nthe = 5\n",
    "thearr = np.linspace(themin, themax, Nthe)\n",
    "dthe = thearr[1]-thearr[0]\n",
    "\n",
    "# min and max source frequencies\n",
    "numin, numax = 0.1/(const.erg2eV*const.H_PLANCK), 50/(const.erg2eV*const.H_PLANCK)\n",
    "Nnu = 40\n",
    "nuarr = np.logspace(log10(numin), log10(numax), Nnu)    # frequency bins\n",
    "nu_ratio = nuarr[1]/nuarr[0]\n",
    "\n",
    "# jet emission time [dust local frame]\n",
    "Nt = 20     # this is the dimension we interpolate over\n",
    "tarr = np.linspace(tmin, tmax, Nt, endpoint=False)\n",
    "dt = tarr[1] - tarr[0]\n",
    "tarr += dt/2.\n",
    "\n",
    "Tarr = np.zeros((Nt, Nr, Nthe, Na), dtype=float)   # to store the dust temperature\n",
    "asubarr = np.zeros((Nt, Nr, Nthe), dtype=float)    # to store sublimation radii\n",
    "taudarr = np.zeros((Nnu, Nr, Nthe), dtype=float)   # dust extinction optical depth at each nu"
   ]
  },
  {
   "cell_type": "code",
   "execution_count": 5,
   "id": "fa2f7a8e-675f-4d51-9ed6-4921dddcbba5",
   "metadata": {},
   "outputs": [],
   "source": [
    "def func_Lnu(t, nu):     # source spectrum and light curve\n",
    "    if t < tmax:\n",
    "        return LnuUVmax*(nu/nuUVmax)**((1 - p)/2)  # spectrum L_nu ~ nu^{(1-p)/2}\n",
    "    return 0."
   ]
  },
  {
   "cell_type": "code",
   "execution_count": 6,
   "id": "9b8e3525-bdd3-4ea5-9f3c-23bbddc83d52",
   "metadata": {},
   "outputs": [],
   "source": [
    "def func_Lnu_vec(t, nu): #t and nu are arrays now\n",
    "    mask = t < tmax\n",
    "    Lnu = np.zeros((t.shape[0], nu.shape[0]))\n",
    "    spectrum = LnuUVmax * (nu / nuUVmax) ** ((1 - p) / 2)\n",
    "    Lnu[mask,:] = spectrum\n",
    "    return Lnu"
   ]
  },
  {
   "cell_type": "code",
   "execution_count": 7,
   "id": "8e81a8b3-dc77-4650-9bfa-5a01203f7ce4",
   "metadata": {},
   "outputs": [],
   "source": [
    "def func_nH(r, the):      # gas density profile (r in pc) - MAKE SURE THIS IS VECTORIZABLE\n",
    "    return nH0"
   ]
  },
  {
   "cell_type": "code",
   "execution_count": 8,
   "id": "466662e2-9d60-417b-8bc0-882c9e7a6e08",
   "metadata": {},
   "outputs": [],
   "source": [
    "def func_Qabs(nu, a):      # absorption efficiency for grain size a [um]\n",
    "    lam = const.C_LIGHT/nu * 1e4    # wavelength in um\n",
    "    return 1./(1 + (lam/lam0)**2 / a)"
   ]
  },
  {
   "cell_type": "code",
   "execution_count": 9,
   "id": "fa2164e3-11b7-4c2e-8684-1d6fc6ec1027",
   "metadata": {},
   "outputs": [],
   "source": [
    "def func_Qabs_vec(nu, a):\n",
    "    nu = np.atleast_1d(nu)\n",
    "    a = np.atleast_1d(a)\n",
    "\n",
    "    # Create meshgrid for broadcasting\n",
    "    nu_grid, a_grid = np.meshgrid(nu, a, indexing='ij')  # Shape: (len(nu), len(a))\n",
    "    \n",
    "    lam_grid = const.C_LIGHT / nu_grid * 1e4  # wavelength in microns (1e6 to convert from m to um)\n",
    "\n",
    "    return 1.0 / (1.0 + (lam_grid / lam0) ** 2 / a_grid)"
   ]
  },
  {
   "cell_type": "code",
   "execution_count": 10,
   "id": "21532bec-d55a-438b-b943-6efcca5e9762",
   "metadata": {},
   "outputs": [],
   "source": [
    "def func_T(qdot_h, aum):    # solve the heating and cooling balance for T\n",
    "    y = qdot_h/(7.12576*aum**2)\n",
    "    if y >= (31.5/aum)**2/12:\n",
    "        return 3240/sqrt(aum)   # the grain should evaporate immediately\n",
    "    xi = sqrt((31.5/aum)**2 - 12*y) + 31.5/aum\n",
    "    T3 = sqrt((2*y*y/3/xi)**(1./3) + (xi*y/18)**(1./3))\n",
    "    return 1000*T3"
   ]
  },
  {
   "cell_type": "code",
   "execution_count": 11,
   "id": "d257efec-faee-4c24-b155-33b7c26ee12c",
   "metadata": {},
   "outputs": [],
   "source": [
    "def func_T_vec(qdot_h, a_val):    # solve the heating and cooling balance for T\n",
    "    y = qdot_h/(7.12576*a_val**2)\n",
    "    thresh = (31.5/a_val)**2/12\n",
    "    thresh = np.tile(thresh, (Nr, Nthe, 1))\n",
    "    T_evap = 3240/np.sqrt(a_val) \n",
    "    T_evap = np.tile(T_evap, (Nr, Nthe, 1))\n",
    "    xi = np.sqrt((31.5 / a_val)**2 - 12 * y) + 31.5 / a_val\n",
    "    T3 = np.sqrt(((2 * y**2) / (3 * xi))**(1.0 / 3) + ((xi * y) / 18)**(1.0 / 3))\n",
    "    T_non_evap = 1000 * T3\n",
    "    return np.where(y >= thresh, T_evap, T_non_evap)"
   ]
  },
  {
   "cell_type": "code",
   "execution_count": 12,
   "id": "7da3c756-831f-4d19-877e-509894250bfb",
   "metadata": {},
   "outputs": [],
   "source": [
    "import time"
   ]
  },
  {
   "cell_type": "code",
   "execution_count": 13,
   "id": "b0f8f546-d795-493e-bd34-2f42e583df6e",
   "metadata": {},
   "outputs": [],
   "source": [
    "# compute cumulative number of H as a function of radius\n",
    "fine_spacing = 10\n",
    "Nr_fine = int(Nr*fine_spacing)\n",
    "#Nthe_fine = int(Nthe*fine_spacing)\n",
    "rarr_fine = np.logspace(log10(rmin/fine_spacing), log10(rmax), Nr_fine)\n",
    "#thearr_fine = np.linspace(themin, themax, Nthe_fine)\n",
    "r_ratio_fine = rarr_fine[1]/rarr_fine[0]\n",
    "dthe_fine = dthe/fine_spacing\n",
    "NHarr_fine = np.zeros((Nr_fine, Nthe), dtype=float)\n",
    "interp_fns = np.zeros(Nthe, dtype=object)"
   ]
  },
  {
   "cell_type": "code",
   "execution_count": 14,
   "id": "63cabbae-3786-4a22-a98e-5cc370f637b6",
   "metadata": {},
   "outputs": [
    {
     "name": "stdout",
     "output_type": "stream",
     "text": [
      "CPU times: user 5.49 ms, sys: 0 ns, total: 5.49 ms\n",
      "Wall time: 4.84 ms\n"
     ]
    }
   ],
   "source": [
    "%%time\n",
    "#vectorized version\n",
    "dr_arr = rarr_fine * (np.sqrt(r_ratio_fine) - 1 / np.sqrt(r_ratio_fine))\n",
    "r2_dr = 2 * np.pi * rarr_fine**2 * dr_arr * const.pc2cm**3\n",
    "r_grid, the_grid = np.meshgrid(rarr_fine, thearr, indexing='ij')  # both shape: (Nr, Nthe)\n",
    "sin_the_grid = np.sin(the_grid)  \n",
    "nH_grid = func_nH(r_grid, the_grid)\n",
    "dNH_grid = r2_dr[:, None] * sin_the_grid * dthe_fine * nH_grid\n",
    "NHarr_fine = np.cumsum(dNH_grid, axis=0)\n",
    "interp_fns = [interp1d(rarr_fine, NHarr_fine[:, i], fill_value='extrapolate') for i in range(Nthe)]"
   ]
  },
  {
   "cell_type": "code",
   "execution_count": 15,
   "id": "a3bcd42b-4914-4db3-a803-8cf6515dbb5e",
   "metadata": {},
   "outputs": [
    {
     "data": {
      "text/plain": [
       "\"%%time\\n#unvectorized\\nfor i in range(Nthe_fine):\\n    NH = 0.     # total H number\\n    the = thearr_fine[i]\\n    for j in range(Nr_fine):\\n        r = rarr_fine[j]\\n        dr = r * (sqrt(r_ratio_fine) - 1/sqrt(r_ratio_fine))\\n        NH += 2*pi*r*r*dr*np.sin(the)*dthe_fine*const.pc2cm**3 * func_nH(r, the)\\n        NHarr_fine[j][i] = NH\\n    r_NH_intp = interp1d(rarr_fine, NHarr_fine[:,i], fill_value='extrapolate')\\n    interp_fns[i] = r_NH_intp\""
      ]
     },
     "execution_count": 15,
     "metadata": {},
     "output_type": "execute_result"
    }
   ],
   "source": [
    "\"\"\"%%time\n",
    "#unvectorized\n",
    "for i in range(Nthe_fine):\n",
    "    NH = 0.     # total H number\n",
    "    the = thearr_fine[i]\n",
    "    for j in range(Nr_fine):\n",
    "        r = rarr_fine[j]\n",
    "        dr = r * (sqrt(r_ratio_fine) - 1/sqrt(r_ratio_fine))\n",
    "        NH += 2*pi*r*r*dr*np.sin(the)*dthe_fine*const.pc2cm**3 * func_nH(r, the)\n",
    "        NHarr_fine[j][i] = NH\n",
    "    r_NH_intp = interp1d(rarr_fine, NHarr_fine[:,i], fill_value='extrapolate')\n",
    "    interp_fns[i] = r_NH_intp\"\"\""
   ]
  },
  {
   "cell_type": "code",
   "execution_count": 16,
   "id": "59d453b8-59e8-4cbc-946e-3497002ae970",
   "metadata": {},
   "outputs": [],
   "source": [
    "# compute cumulative number of ionizing photons as a function of time\n",
    "Nt_fine = int(Nt*20)\n",
    "tarr_fine = np.linspace(tmin, tmax, Nt_fine)\n",
    "dt_fine = tarr_fine[1] - tarr_fine[0]\n",
    "tarr_fine += dt_fine/2.\n",
    "Nionarr_fine = np.zeros(Nt_fine, dtype=float)   # cumulative number of ionizing photons\n",
    "Nnu_fine = int(Nnu*5)\n",
    "nu_ion_min, nu_ion_max = 13.6/(const.erg2eV*const.H_PLANCK), 100/(const.erg2eV*const.H_PLANCK)\n",
    "nuarr_fine = np.logspace(log10(nu_ion_min), log10(nu_ion_max), Nnu_fine)\n",
    "nu_ratio_fine = nuarr_fine[1]/nuarr_fine[0]"
   ]
  },
  {
   "cell_type": "code",
   "execution_count": 17,
   "id": "ae97091b-535d-411b-a56b-c79186447c2c",
   "metadata": {},
   "outputs": [
    {
     "name": "stdout",
     "output_type": "stream",
     "text": [
      "CPU times: user 0 ns, sys: 5.4 ms, total: 5.4 ms\n",
      "Wall time: 4.39 ms\n"
     ]
    }
   ],
   "source": [
    "%%time\n",
    "#vectorized\n",
    "dnuarr_fine = nuarr_fine * (np.sqrt(nu_ratio_fine) - 1 / np.sqrt(nu_ratio_fine))  # shape (Nnu,)\n",
    "Lnu_vals = func_Lnu_vec(tarr_fine, nuarr_fine)  # Should return shape (Nt_fine, Nnu)\n",
    "Lion_arr = Lnu_vals@(dnuarr_fine/nuarr_fine) / (const.H_PLANCK)\n",
    "Nionarr_fine = np.cumsum(Lion_arr * dt_fine)  # shape (Nt_fine,)\n",
    "Nion_t_intp = interp1d(Nionarr_fine, tarr_fine, fill_value='extrapolate')"
   ]
  },
  {
   "cell_type": "code",
   "execution_count": 18,
   "id": "9132217b-0652-4bf0-ab19-f67ce3c1b97c",
   "metadata": {},
   "outputs": [
    {
     "data": {
      "text/plain": [
       "\"%%time\\n#unvectorized\\nNion = 0.\\nfor i in range(Nt_fine):\\n    t = tarr_fine[i]\\n    Lion = 0.\\n    for j in range(Nnu):\\n        nu = nuarr_fine[j]\\n        dnu = nu * (sqrt(nu_ratio_fine) - 1/sqrt(nu_ratio_fine))\\n        Lion += dnu * func_Lnu(t, nu)/(const.H_PLANCK*nu)\\n    Nion += Lion*dt_fine\\n    Nionarr_fine[i] = Nion\\nNion_t_intp = interp1d(Nionarr_fine, tarr_fine, fill_value='extrapolate')\""
      ]
     },
     "execution_count": 18,
     "metadata": {},
     "output_type": "execute_result"
    }
   ],
   "source": [
    "\"\"\"%%time\n",
    "#unvectorized\n",
    "Nion = 0.\n",
    "for i in range(Nt_fine):\n",
    "    t = tarr_fine[i]\n",
    "    Lion = 0.\n",
    "    for j in range(Nnu):\n",
    "        nu = nuarr_fine[j]\n",
    "        dnu = nu * (sqrt(nu_ratio_fine) - 1/sqrt(nu_ratio_fine))\n",
    "        Lion += dnu * func_Lnu(t, nu)/(const.H_PLANCK*nu)\n",
    "    Nion += Lion*dt_fine\n",
    "    Nionarr_fine[i] = Nion\n",
    "Nion_t_intp = interp1d(Nionarr_fine, tarr_fine, fill_value='extrapolate')\"\"\""
   ]
  },
  {
   "cell_type": "code",
   "execution_count": 19,
   "id": "1b016d08-ef51-46fd-84cf-a23ec857f7b3",
   "metadata": {},
   "outputs": [],
   "source": [
    "def calculate_all_T_vec(t, i_t, rion, Tarr, asubarr, taudarr):\n",
    "    dnuarr = nuarr * (np.sqrt(nu_ratio) - 1./np.sqrt(nu_ratio))\n",
    "    Lnu_t = func_Lnu_vec(np.asarray([t]), nuarr)  # (Nnu,)\n",
    "    Qabs = func_Qabs_vec(nuarr, aarr)\n",
    "    exp_taud = np.exp(-taudarr)\n",
    "    \n",
    "    nu_mask = (nuarr > nu_ion_min).reshape(-1, 1, 1, 1)     # (Nnu, 1, 1, 1)\n",
    "    r_mask = (rarr < rion).reshape(1, -1, 1, 1)             # (1, Nr, 1, 1)\n",
    "    \n",
    "    # Combine masks — broadcasting gives shape (Nnu, Nr, Nthe, Na)\n",
    "    exclude_mask = nu_mask & r_mask\n",
    "    exclude_mask = np.tile(exclude_mask, (1, 1, Nthe, Na))\n",
    "    \n",
    "    dnu_val = dnuarr.reshape(-1, 1, 1, 1)\n",
    "    Lnu_val = Lnu_t.reshape(-1, 1, 1, 1)\n",
    "    Qabs_val = Qabs.reshape(-1, 1, 1, len(aarr))\n",
    "    exptaud_val = exp_taud[:, :, :, np.newaxis]\n",
    "    pia2_val = (np.pi*aarr**2).reshape(1, 1, 1, -1)\n",
    "    denom = (4 * np.pi * rarr**2 * const.pc2cm**2).reshape(1, -1, 1, 1)\n",
    "    \n",
    "    qhdot_cont = (dnu_val * Lnu_val * exptaud_val * Qabs_val * pia2_val) / denom\n",
    "    qhdot_cont[exclude_mask] = 0.\n",
    "    \n",
    "    qhdot = np.sum(qhdot_cont, axis=0)*1e-8\n",
    "    \n",
    "    a_val = aarr.reshape(1, 1, -1)\n",
    "    a_val_n = np.tile(a_val, (Nr, Nthe, 1))\n",
    "    \n",
    "    Tsub = 2.33e3 * (1 - 0.033*np.log(t/100./a_val_n))\n",
    "    \n",
    "    Tvals = func_T_vec(qhdot, a_val)                   # (Nr, Nthe, Na)\n",
    "    Tmask = (Tvals > Tsub)                             # grains that are *evaporated*\n",
    "    \n",
    "    # Mark evaporated grains as 0 in Tarr\n",
    "    Tarr[i_t] = Tvals * (~Tmask)\n",
    "\n",
    "    # Now calculate asubarr (min a that survives)\n",
    "    survive_mask = ~Tmask                              # (Nr, Nthe, Na)\n",
    "    a_survive = np.where(survive_mask, a_val_n, np.inf)\n",
    "    asub_now = np.min(a_survive, axis=2)               # (Nr, Nthe)\n",
    "    \n",
    "    # Clamp to [amin, amax]\n",
    "    asub_now = np.clip(asub_now, amin, amax)\n",
    "    #asub_now\n",
    "    if i_t == 0:\n",
    "        asubarr[i_t] = asub_now\n",
    "    else:\n",
    "        asubarr[i_t] = np.maximum(asubarr[i_t - 1], asub_now)\n",
    "    return"
   ]
  },
  {
   "cell_type": "code",
   "execution_count": 20,
   "id": "d86745f3-9b7f-49ac-a8fa-1db30f643d63",
   "metadata": {},
   "outputs": [],
   "source": [
    "# # calculate dust temperature at a given time\n",
    "# def calculate_all_T(t, i_t, rion, Tarr, asubarr, taudarr):\n",
    "#     for l in range(Nthe):\n",
    "#         for j in range(Nr):\n",
    "#             r = rarr[j]\n",
    "#             asub = amin\n",
    "#             for k in range(Na):\n",
    "#                 a = aarr[k]\n",
    "#                 # calculate heating rate divided by pi*a^2\n",
    "#                 qdot_h_over_pia2 = 0.\n",
    "#                 for m in range(Nnu):\n",
    "#                     nu = nuarr[m]\n",
    "#                     dnu = nu * (sqrt(nu_ratio) - 1./sqrt(nu_ratio))\n",
    "#                     if r < rion and nu > nu_ion_min:\n",
    "#                         break   # no photons above 13.6 eV ar r > rion\n",
    "#                     qdot_h_over_pia2 += dnu * func_Lnu(t, nu) * exp(-taudarr[m, j, l])\\\n",
    "#                                         /(4*pi*r*r*const.pc2cm**2) * func_Qabs(nu, a)\n",
    "#                 qdot_h = qdot_h_over_pia2 * pi * a**2 * 1e-8    # heating rate [cgs]\n",
    "#                 T = func_T(qdot_h, a)\n",
    "#                 Tsub = 2.33e3 * (1 - 0.033*log(t/100./a))\n",
    "#                 if T > Tsub:    # grains in this size bin have already evaporated\n",
    "#                     asub = min(max(asub, a), amax)\n",
    "#                     Tarr[i_t, j, l, k] = 0.   # no emission from this size bin\n",
    "#                 else:   # grains survive\n",
    "#                     Tarr[i_t, j, l, k] = T\n",
    "#             if i_t == 0:\n",
    "#                 asubarr[i_t, j, l] = asub\n",
    "#             else:   # make sure asub does not decrease with time\n",
    "#                 asubarr[i_t, j, l] = max(asub, asubarr[i_t-1, j, l])\n",
    "#     return"
   ]
  },
  {
   "cell_type": "code",
   "execution_count": 21,
   "id": "38217bd0-4064-4aa4-bc27-fe3cd0409be0",
   "metadata": {},
   "outputs": [],
   "source": [
    "def calculate_taudarr_vec(i_t, asubarr, taudarr, thearr):\n",
    "    lamarr = (const.C_LIGHT/nuarr*1e4).reshape(-1, 1, 1)\n",
    "    xmax = (amax * (lam0/lamarr)**2).reshape(-1, 1, 1)\n",
    "    tau_pre_factor = (2*sqrt(2)*pi*1e-8*n0_over_nH*lam0/lamarr).reshape(-1, 1, 1)\n",
    "    \n",
    "    thearr_n = thearr.reshape(1, 1, -1)\n",
    "    drarr = (rarr * (sqrt(r_ratio) - 1./sqrt(r_ratio))).reshape(1, -1, 1)\n",
    "    \n",
    "    xsub = asubarr[i_t][np.newaxis,:,:]*(lam0/lamarr)**2\n",
    "    tau_cont = tau_pre_factor * drarr * const.pc2cm * func_nH(rarr, thearr) \\\n",
    "                            * (np.arctan(np.sqrt(0.5*xmax)) - np.arctan(np.sqrt(0.5*xsub)))\n",
    "    taudarr = np.cumsum(tau_cont, axis=1)\n",
    "    return"
   ]
  },
  {
   "cell_type": "code",
   "execution_count": 22,
   "id": "9c7fdbea-ab6b-4eea-89aa-b0c9e123d877",
   "metadata": {},
   "outputs": [],
   "source": [
    "# def calculate_taudarr(i_t, asubarr, taudarr, thearr):\n",
    "#     for m in range(Nnu):\n",
    "#         nu = nuarr[m]\n",
    "#         lam = const.C_LIGHT/nu*1e4   # in um\n",
    "#         xmax = amax * (lam0/lam)**2\n",
    "#         tau_pre_factor = 2*sqrt(2)*pi*1e-8*n0_over_nH*lam0/lam\n",
    "#         for k in range(Nthe):\n",
    "#             taud = 0.\n",
    "#             for j in range(Nr):\n",
    "#                 r = rarr[j]\n",
    "#                 the = thearr[k]\n",
    "#                 dr = r * (sqrt(r_ratio) - 1./sqrt(r_ratio))\n",
    "#                 xsub = asubarr[i_t, j, k] * (lam0/lam)**2\n",
    "#                 taud += tau_pre_factor * dr * const.pc2cm * func_nH(r, the) \\\n",
    "#                         * (atan(sqrt(0.5*xmax)) - atan(sqrt(0.5*xsub)))\n",
    "#                 taudarr[m, j, k] = taud\n",
    "#     return"
   ]
  },
  {
   "cell_type": "code",
   "execution_count": 24,
   "id": "4a4c0a16-1aeb-43f5-a6b3-96176d3183c4",
   "metadata": {},
   "outputs": [
    {
     "name": "stdout",
     "output_type": "stream",
     "text": [
      "t=7.5 1 iterations\n",
      "t=7.5 1 iterations\n",
      "t=7.5 1 iterations\n",
      "t=7.5 1 iterations\n",
      "t=7.5 1 iterations\n",
      "t=22.5 1 iterations\n",
      "t=22.5 1 iterations\n",
      "t=22.5 1 iterations\n",
      "t=22.5 1 iterations\n",
      "t=22.5 1 iterations\n",
      "t=37.5 1 iterations\n",
      "t=37.5 1 iterations\n",
      "t=37.5 1 iterations\n",
      "t=37.5 1 iterations\n",
      "t=37.5 1 iterations\n",
      "t=52.5 1 iterations\n",
      "t=52.5 1 iterations\n",
      "t=52.5 1 iterations\n",
      "t=52.5 1 iterations\n",
      "t=52.5 1 iterations\n",
      "t=67.5 1 iterations\n",
      "t=67.5 1 iterations\n",
      "t=67.5 1 iterations\n",
      "t=67.5 1 iterations\n",
      "t=67.5 1 iterations\n",
      "t=82.5 1 iterations\n",
      "t=82.5 1 iterations\n",
      "t=82.5 1 iterations\n",
      "t=82.5 1 iterations\n",
      "t=82.5 1 iterations\n",
      "t=97.5 1 iterations\n",
      "t=97.5 1 iterations\n",
      "t=97.5 1 iterations\n",
      "t=97.5 1 iterations\n",
      "t=97.5 1 iterations\n",
      "t=112.5 1 iterations\n",
      "t=112.5 1 iterations\n",
      "t=112.5 1 iterations\n",
      "t=112.5 1 iterations\n",
      "t=112.5 1 iterations\n",
      "t=127.5 1 iterations\n",
      "t=127.5 1 iterations\n",
      "t=127.5 1 iterations\n",
      "t=127.5 1 iterations\n",
      "t=127.5 1 iterations\n",
      "t=142.5 1 iterations\n",
      "t=142.5 1 iterations\n",
      "t=142.5 1 iterations\n",
      "t=142.5 1 iterations\n",
      "t=142.5 1 iterations\n",
      "t=157.5 1 iterations\n",
      "t=157.5 1 iterations\n",
      "t=157.5 1 iterations\n",
      "t=157.5 1 iterations\n",
      "t=157.5 1 iterations\n",
      "t=172.5 1 iterations\n",
      "t=172.5 1 iterations\n",
      "t=172.5 1 iterations\n",
      "t=172.5 1 iterations\n",
      "t=172.5 1 iterations\n",
      "t=187.5 1 iterations\n",
      "t=187.5 1 iterations\n",
      "t=187.5 1 iterations\n",
      "t=187.5 1 iterations\n",
      "t=187.5 1 iterations\n",
      "t=202.5 1 iterations\n",
      "t=202.5 1 iterations\n",
      "t=202.5 1 iterations\n",
      "t=202.5 1 iterations\n",
      "t=202.5 1 iterations\n",
      "t=217.5 1 iterations\n",
      "t=217.5 1 iterations\n",
      "t=217.5 1 iterations\n",
      "t=217.5 1 iterations\n",
      "t=217.5 1 iterations\n",
      "t=232.5 1 iterations\n",
      "t=232.5 1 iterations\n",
      "t=232.5 1 iterations\n",
      "t=232.5 1 iterations\n",
      "t=232.5 1 iterations\n",
      "t=247.5 1 iterations\n",
      "t=247.5 1 iterations\n",
      "t=247.5 1 iterations\n",
      "t=247.5 1 iterations\n",
      "t=247.5 1 iterations\n",
      "t=262.5 1 iterations\n",
      "t=262.5 1 iterations\n",
      "t=262.5 1 iterations\n",
      "t=262.5 1 iterations\n",
      "t=262.5 1 iterations\n",
      "t=277.5 1 iterations\n",
      "t=277.5 1 iterations\n",
      "t=277.5 1 iterations\n",
      "t=277.5 1 iterations\n",
      "t=277.5 1 iterations\n",
      "t=292.5 1 iterations\n",
      "t=292.5 1 iterations\n",
      "t=292.5 1 iterations\n",
      "t=292.5 1 iterations\n",
      "t=292.5 1 iterations\n"
     ]
    }
   ],
   "source": [
    "tol = 0.01  # tolerance for asubarr\n",
    "for i in range(Nt):\n",
    "    for k in range(Nthe):\n",
    "        t = tarr[i]\n",
    "        the = thearr[k]\n",
    "        Nion = Nion_t_intp(t)\n",
    "        rion = interp_fns[int(k)](Nion)  # ionization radius\n",
    "        taudarr.fill(0)    # first iteration, no dust extinction\n",
    "        calculate_all_T_vec(t, i, rion, Tarr, asubarr, taudarr)\n",
    "        frac_diff = 1.  # convergence criterion\n",
    "        n_iter = 0.     # number of iterations\n",
    "        while frac_diff > tol:\n",
    "            n_iter += 1\n",
    "            asubarr_old = np.copy(asubarr[i])\n",
    "            # we go back to calculate dust extinction optical depth\n",
    "            calculate_taudarr_vec(i, asubarr, taudarr, thearr)\n",
    "            # then calculate the whole temperature again\n",
    "            calculate_all_T_vec(t, i, rion, Tarr, asubarr, taudarr)\n",
    "            frac_diff = 0.\n",
    "            for j in range(Nr):\n",
    "                frac_diff = max(frac_diff, abs(asubarr_old[j, k]/asubarr[i, j, k] - 1))\n",
    "        print('t=%.1f' % t, '%d iterations' % n_iter)"
   ]
  },
  {
   "cell_type": "code",
   "execution_count": 25,
   "id": "a4096cdd-269a-4156-82fe-d4511b319d7c",
   "metadata": {},
   "outputs": [],
   "source": [
    "# write the results into files: Tarr, asubarr\n",
    "savelist = ['Td', 'asub']\n",
    "for i_file in range(len(savelist)):\n",
    "    fname = 'nH%.1e_' % nH0 + savelist[i_file]\n",
    "    with open(savedir+fname + '.txt', 'w') as f:\n",
    "        if savelist[i_file] == 'Td':\n",
    "            f.write('tmin\\ttmax\\tNt\\t%.8e\\t%.8e\\t%d\\tlinear' % (tmin, tmax, Nt))\n",
    "            f.write('\\nrmin\\trmax\\tNr\\t%.8e\\t%.8e\\t%d\\tlog' % (rmin, rmax, Nr))\n",
    "            f.write('\\nthemin\\tthemax\\tNthe\\t%.8e\\t%.8e\\t%d\\tlinear' % (themin, themax, Nthe))\n",
    "            f.write('\\namin\\tamax\\tNa\\t%.8e\\t%.8e\\t%d\\tlog' % (amin, amax, Na))\n",
    "            f.write('\\n')\n",
    "            for i in range(Nt):\n",
    "                t = tarr[i]\n",
    "                f.write('\\ni=%d, t=%.8e' % (i, t))\n",
    "                for j in range(Nr):\n",
    "                    f.write('\\n')\n",
    "                    for l in range(Nthe):\n",
    "                        f.write('\\n')\n",
    "                        for k in range(Na):\n",
    "                            if k == 0:\n",
    "                                f.write('%.8e' % Tarr[i, j, l, k])\n",
    "                            else:\n",
    "                                f.write('\\t%.8e' % Tarr[i, j, l, k])\n",
    "        elif savelist[i_file] == 'asub':\n",
    "            f.write('tmin\\ttmax\\tNt\\t%.8e\\t%.8e\\t%d\\tlog' % (tmin, tmax, Nt))\n",
    "            f.write('\\nrmin\\trmax\\tNr\\t%.8e\\t%.8e\\t%d\\tlog' % (rmin, rmax, Nr))\n",
    "            f.write('\\nthemin\\tthemax\\tNthe\\t%.8e\\t%.8e\\t%d\\tlinear' % (themin, themax, Nthe))\n",
    "            f.write('\\n')\n",
    "            for i in range(Nt):\n",
    "                f.write('\\n')\n",
    "                for j in range(Nr):\n",
    "                    f.write('\\n')\n",
    "                    for l in range(Nthe):\n",
    "                        if l == 0:\n",
    "                            f.write('%.8e' % asubarr[i, j, l])\n",
    "                        else:\n",
    "                            f.write('\\t%.8e' % asubarr[i, j, l])"
   ]
  },
  {
   "cell_type": "code",
   "execution_count": null,
   "id": "74fab0bc-c7ec-496d-8d2b-6ffe07e6b8a2",
   "metadata": {},
   "outputs": [],
   "source": []
  }
 ],
 "metadata": {
  "kernelspec": {
   "display_name": "Python 3 (ipykernel)",
   "language": "python",
   "name": "python3"
  },
  "language_info": {
   "codemirror_mode": {
    "name": "ipython",
    "version": 3
   },
   "file_extension": ".py",
   "mimetype": "text/x-python",
   "name": "python",
   "nbconvert_exporter": "python",
   "pygments_lexer": "ipython3",
   "version": "3.12.6"
  }
 },
 "nbformat": 4,
 "nbformat_minor": 5
}
