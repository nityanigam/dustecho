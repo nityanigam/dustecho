{
 "cells": [
  {
   "cell_type": "code",
   "execution_count": 1,
   "id": "0a21b4a3-0a5e-4a48-8560-590bc2d29260",
   "metadata": {},
   "outputs": [],
   "source": [
    "import numpy as np\n",
    "import const\n",
    "from fpath import *\n",
    "from scipy.interpolate import interp1d\n",
    "from scipy.interpolate import RegularGridInterpolator\n",
    "from scipy.interpolate import griddata\n",
    "from math import pi, log10, sqrt, log, exp, sqrt, atan, cos, sin, acos, asin"
   ]
  },
  {
   "cell_type": "code",
   "execution_count": 2,
   "id": "e8f89f8f-5166-4a0b-b4bb-b0c935264b46",
   "metadata": {},
   "outputs": [],
   "source": [
    "# adjustable parameters\n",
    "nH0 = 1                # [cm^-3] H number density\n",
    "tmax = 300.     # [s], duration of the source\n",
    "LUV = 3e47      # [erg/s]  # source luminosity\n",
    "\n",
    "# fixed parameters\n",
    "tmin = 0.\n",
    "n0_over_nH = 1.45e-15    # dust number density over H number density\n",
    "lam0 = 2.       # [um] critical wavelength for Qabs_lambda\n",
    "thej = pi/2     # [rad] jet opening angle\n",
    "p = 2.2         # electron PL index => spectrum L_nu ~ nu^{(1-p)/2}\n",
    "nuUVmax = 50/const.erg2eV/const.H_PLANCK   # maximum UV frequency 50 eV\n",
    "LnuUVmax = (3-p)/2*LUV/nuUVmax   # Lnu at nuUVmax"
   ]
  },
  {
   "cell_type": "code",
   "execution_count": 3,
   "id": "dac8a6b2-6ef9-4277-b9b7-3558f93f6d9a",
   "metadata": {},
   "outputs": [],
   "source": [
    "amin, amax = 0.01, 0.3      # um, grain size limits\n",
    "Na = 30\n",
    "aarr = np.logspace(log10(amin), log10(amax), Na)\n",
    "a_ratio = aarr[1]/aarr[0]\n",
    "\n",
    "rmin, rmax = 0.4, 100.       # pc, radial layers\n",
    "Nr = 150     # we need dr/r <~ thej to resolve the light curve of the echo\n",
    "rarr = np.logspace(log10(rmin), log10(rmax), Nr)\n",
    "r_ratio = rarr[1]/rarr[0]\n",
    "\n",
    "#THIS IS NEW\n",
    "themin, themax = 0.000001, pi    #theta array\n",
    "Nthe = 5\n",
    "thearr = np.linspace(themin, themax, Nthe)\n",
    "dthe = thearr[1]-thearr[0]\n",
    "\n",
    "# min and max source frequencies\n",
    "numin, numax = 0.1/(const.erg2eV*const.H_PLANCK), 50/(const.erg2eV*const.H_PLANCK)\n",
    "Nnu = 40\n",
    "nuarr = np.logspace(log10(numin), log10(numax), Nnu)    # frequency bins\n",
    "nu_ratio = nuarr[1]/nuarr[0]\n",
    "\n",
    "# jet emission time [dust local frame]\n",
    "Nt = 20     # this is the dimension we interpolate over\n",
    "tarr = np.linspace(tmin, tmax, Nt, endpoint=False)\n",
    "dt = tarr[1] - tarr[0]\n",
    "tarr += dt/2.\n",
    "\n",
    "Tarr = np.zeros((Nt, Nr, Nthe, Na), dtype=float)   # to store the dust temperature\n",
    "asubarr = np.zeros((Nt, Nr, Nthe), dtype=float)    # to store sublimation radii\n",
    "taudarr = np.zeros((Nnu, Nr, Nthe), dtype=float)   # dust extinction optical depth at each nu"
   ]
  },
  {
   "cell_type": "code",
   "execution_count": 4,
   "id": "99d4c1b0-7a6c-469c-8232-506ed6963f77",
   "metadata": {},
   "outputs": [],
   "source": [
    "def func_Lnu(t, nu):     # source spectrum and light curve\n",
    "    if t < tmax:\n",
    "        return LnuUVmax*(nu/nuUVmax)**((1 - p)/2)  # spectrum L_nu ~ nu^{(1-p)/2}\n",
    "    return 0."
   ]
  },
  {
   "cell_type": "code",
   "execution_count": 5,
   "id": "2ed10a1e-2e3b-46c7-b58a-c5f46b32825a",
   "metadata": {},
   "outputs": [],
   "source": [
    "def func_nH(r, the):      # gas density profile (r in pc)\n",
    "    return nH0"
   ]
  },
  {
   "cell_type": "code",
   "execution_count": 6,
   "id": "9c85dc03-7f95-4a92-9fdf-dc29d8192abf",
   "metadata": {},
   "outputs": [],
   "source": [
    "def func_Qabs(nu, a):      # absorption efficiency for grain size a [um]\n",
    "    lam = const.C_LIGHT/nu * 1e4    # wavelength in um\n",
    "    return 1./(1 + (lam/lam0)**2 / a)"
   ]
  },
  {
   "cell_type": "code",
   "execution_count": 7,
   "id": "b63f40aa-bed3-4a34-a374-e9ff63b317d6",
   "metadata": {},
   "outputs": [],
   "source": [
    "def func_T(qdot_h, aum):    # solve the heating and cooling balance for T\n",
    "    y = qdot_h/(7.12576*aum**2)\n",
    "    if y >= (31.5/aum)**2/12:\n",
    "        return 3240/sqrt(aum)   # the grain should evaporate immediately\n",
    "    xi = sqrt((31.5/aum)**2 - 12*y) + 31.5/aum\n",
    "    T3 = sqrt((2*y*y/3/xi)**(1./3) + (xi*y/18)**(1./3))\n",
    "    return 1000*T3"
   ]
  },
  {
   "cell_type": "code",
   "execution_count": 8,
   "id": "ba313629-8641-4f88-a15e-ec329d236ce1",
   "metadata": {},
   "outputs": [],
   "source": [
    "# compute cumulative number of H as a function of radius\n",
    "fine_spacing = 10\n",
    "Nr_fine = int(Nr*fine_spacing)\n",
    "Nthe_fine = int(Nthe*fine_spacing)\n",
    "rarr_fine = np.logspace(log10(rmin/fine_spacing), log10(rmax), Nr_fine)\n",
    "thearr_fine = np.linspace(themin, themax, Nthe_fine)\n",
    "r_ratio_fine = rarr_fine[1]/rarr_fine[0]\n",
    "dthe_fine = dthe/fine_spacing\n",
    "NHarr_fine = np.zeros((Nr_fine, Nthe_fine), dtype=float)\n",
    "interp_fns = np.zeros(Nthe_fine, dtype=object)\n",
    "for i in range(Nthe_fine):\n",
    "    NH = 0.     # total H number\n",
    "    the = thearr_fine[i]\n",
    "    for j in range(Nr_fine):\n",
    "        r = rarr_fine[j]\n",
    "        dr = r * (sqrt(r_ratio_fine) - 1/sqrt(r_ratio_fine))\n",
    "        NH += 2*pi*r*r*dr*np.sin(the)*dthe_fine*const.pc2cm**3 * func_nH(r, the)\n",
    "        NHarr_fine[j][i] = NH\n",
    "    r_NH_intp = interp1d(rarr_fine, NHarr_fine[:,i], fill_value='extrapolate')\n",
    "    interp_fns[i] = r_NH_intp"
   ]
  },
  {
   "cell_type": "code",
   "execution_count": 9,
   "id": "ac5f100b-be71-4490-9f3e-c16438c67b27",
   "metadata": {},
   "outputs": [
    {
     "data": {
      "text/plain": [
       "array([1.51028542e+50, 3.04440581e+50, 4.60273733e+50, ...,\n",
       "       1.47205142e+62, 1.49528299e+62, 1.51888120e+62], shape=(1500,))"
      ]
     },
     "execution_count": 9,
     "metadata": {},
     "output_type": "execute_result"
    }
   ],
   "source": [
    "NH_total = np.sum(NHarr_fine, axis=1)\n",
    "NH_total"
   ]
  },
  {
   "cell_type": "code",
   "execution_count": 10,
   "id": "24d10505-4e09-4242-87bd-5ae9999b24c3",
   "metadata": {},
   "outputs": [
    {
     "data": {
      "text/plain": [
       "[<matplotlib.lines.Line2D at 0x7f799bd10c20>]"
      ]
     },
     "execution_count": 10,
     "metadata": {},
     "output_type": "execute_result"
    },
    {
     "data": {
      "image/png": "[encoded data removed]",
      "text/plain": [
       "<Figure size 640x480 with 1 Axes>"
      ]
     },
     "metadata": {},
     "output_type": "display_data"
    }
   ],
   "source": [
    "from matplotlib import pyplot as plt\n",
    "plt.plot(NH_total)"
   ]
  },
  {
   "cell_type": "code",
   "execution_count": 11,
   "id": "be41aaf5-5b5a-4307-9044-0cce2a800d3e",
   "metadata": {},
   "outputs": [],
   "source": [
    "# compute cumulative number of ionizing photons as a function of time\n",
    "Nt_fine = int(Nt*20)\n",
    "tarr_fine = np.linspace(tmin, tmax, Nt_fine)\n",
    "dt_fine = tarr_fine[1] - tarr_fine[0]\n",
    "tarr_fine += dt_fine/2.\n",
    "Nionarr_fine = np.zeros(Nt_fine, dtype=float)   # cumulative number of ionizing photons\n",
    "Nnu_fine = int(Nnu*5)\n",
    "nu_ion_min, nu_ion_max = 13.6/(const.erg2eV*const.H_PLANCK), 100/(const.erg2eV*const.H_PLANCK)\n",
    "nuarr_fine = np.logspace(log10(nu_ion_min), log10(nu_ion_max), Nnu_fine)\n",
    "nu_ratio_fine = nuarr_fine[1]/nuarr_fine[0]"
   ]
  },
  {
   "cell_type": "code",
   "execution_count": 12,
   "id": "22c0333f-3661-4f13-9a93-17fe444e4520",
   "metadata": {},
   "outputs": [],
   "source": [
    "Nion = 0.\n",
    "for i in range(Nt_fine):\n",
    "    t = tarr_fine[i]\n",
    "    Lion = 0.\n",
    "    for j in range(Nnu):\n",
    "        nu = nuarr_fine[j]\n",
    "        dnu = nu * (sqrt(nu_ratio_fine) - 1/sqrt(nu_ratio_fine))\n",
    "        Lion += dnu * func_Lnu(t, nu)/(const.H_PLANCK*nu)\n",
    "    Nion += Lion*dt_fine\n",
    "    Nionarr_fine[i] = Nion\n",
    "Nion_t_intp = interp1d(Nionarr_fine, tarr_fine, fill_value='extrapolate')"
   ]
  },
  {
   "cell_type": "code",
   "execution_count": 13,
   "id": "aff2ccb1-f0ed-48e8-9256-0e1fa7744c76",
   "metadata": {},
   "outputs": [],
   "source": [
    "# calculate dust temperature at a given time\n",
    "def calculate_all_T(t, i_t, rion, Tarr, asubarr, taudarr):\n",
    "    for l in range(Nthe):\n",
    "        for j in range(Nr):\n",
    "            r = rarr[j]\n",
    "            asub = amin\n",
    "            for k in range(Na):\n",
    "                a = aarr[k]\n",
    "                # calculate heating rate divided by pi*a^2\n",
    "                qdot_h_over_pia2 = 0.\n",
    "                for m in range(Nnu):\n",
    "                    nu = nuarr[m]\n",
    "                    dnu = nu * (sqrt(nu_ratio) - 1./sqrt(nu_ratio))\n",
    "                    if r < rion and nu > nu_ion_min:\n",
    "                        break   # no photons above 13.6 eV ar r > rion\n",
    "                    qdot_h_over_pia2 += dnu * func_Lnu(t, nu) * exp(-taudarr[m, j, l])\\\n",
    "                                        /(4*pi*r*r*const.pc2cm**2) * func_Qabs(nu, a)\n",
    "                qdot_h = qdot_h_over_pia2 * pi * a**2 * 1e-8    # heating rate [cgs]\n",
    "                T = func_T(qdot_h, a)\n",
    "                Tsub = 2.33e3 * (1 - 0.033*log(t/100./a))\n",
    "                if T > Tsub:    # grains in this size bin have already evaporated\n",
    "                    asub = min(max(asub, a), amax)\n",
    "                    Tarr[i_t, j, l, k] = 0.   # no emission from this size bin\n",
    "                else:   # grains survive\n",
    "                    Tarr[i_t, j, l, k] = T\n",
    "            if i_t == 0:\n",
    "                asubarr[i_t, j, l] = asub\n",
    "            else:   # make sure asub does not decrease with time\n",
    "                asubarr[i_t, j, l] = max(asub, asubarr[i_t-1, j, l])\n",
    "    return"
   ]
  },
  {
   "cell_type": "code",
   "execution_count": 14,
   "id": "a296c60f-4733-4ae5-ae9b-e103f3cb3295",
   "metadata": {},
   "outputs": [],
   "source": [
    "def calculate_taudarr(i_t, asubarr, taudarr, thearr):\n",
    "    for m in range(Nnu):\n",
    "        nu = nuarr[m]\n",
    "        lam = const.C_LIGHT/nu*1e4   # in um\n",
    "        xmax = amax * (lam0/lam)**2\n",
    "        tau_pre_factor = 2*sqrt(2)*pi*1e-8*n0_over_nH*lam0/lam\n",
    "        for k in range(Nthe):\n",
    "            taud = 0.\n",
    "            for j in range(Nr):\n",
    "                r = rarr[j]\n",
    "                the = thearr[k]\n",
    "                dr = r * (sqrt(r_ratio) - 1./sqrt(r_ratio))\n",
    "                xsub = asubarr[i_t, j, k] * (lam0/lam)**2\n",
    "                taud += tau_pre_factor * dr * const.pc2cm * func_nH(r, the) \\\n",
    "                        * (atan(sqrt(0.5*xmax)) - atan(sqrt(0.5*xsub)))\n",
    "                taudarr[m, j, k] = taud\n",
    "    return"
   ]
  },
  {
   "cell_type": "code",
   "execution_count": 15,
   "id": "56a0f2f9-3b1a-41a3-b050-b532c5092aab",
   "metadata": {},
   "outputs": [],
   "source": [
    "# i = 3\n",
    "# # k = 2\n",
    "# # t = tarr[i]\n",
    "# # the = thearr[k]\n",
    "# # Nion = Nion_t_intp(t)\n",
    "# # rion = interp_fns[int(k*fine_spacing)](Nion)  # ionization radius\n",
    "# # taudarr.fill(0)    # first iteration, no dust extinction\n",
    "# # calculate_all_T(t, i, rion, Tarr, asubarr, taudarr)"
   ]
  },
  {
   "cell_type": "code",
   "execution_count": 16,
   "id": "e40e9491-b608-4d75-98ba-1fc1a7f489f0",
   "metadata": {},
   "outputs": [],
   "source": [
    "# calculate_taudarr(i, asubarr, taudarr, thearr)"
   ]
  },
  {
   "cell_type": "code",
   "execution_count": 17,
   "id": "a90decd4-638e-4e47-a1ad-0edc2a63ad3a",
   "metadata": {},
   "outputs": [
    {
     "name": "stdout",
     "output_type": "stream",
     "text": [
      "t=7.5 1 iterations\n",
      "t=7.5 1 iterations\n",
      "t=7.5 1 iterations\n",
      "t=7.5 1 iterations\n",
      "t=7.5 1 iterations\n",
      "t=22.5 1 iterations\n",
      "t=22.5 1 iterations\n",
      "t=22.5 1 iterations\n",
      "t=22.5 1 iterations\n",
      "t=22.5 1 iterations\n",
      "t=37.5 1 iterations\n",
      "t=37.5 1 iterations\n",
      "t=37.5 1 iterations\n",
      "t=37.5 1 iterations\n",
      "t=37.5 1 iterations\n",
      "t=52.5 1 iterations\n",
      "t=52.5 1 iterations\n",
      "t=52.5 1 iterations\n",
      "t=52.5 1 iterations\n",
      "t=52.5 1 iterations\n",
      "t=67.5 2 iterations\n",
      "t=67.5 2 iterations\n",
      "t=67.5 2 iterations\n",
      "t=67.5 2 iterations\n",
      "t=67.5 2 iterations\n",
      "t=82.5 2 iterations\n",
      "t=82.5 2 iterations\n",
      "t=82.5 2 iterations\n",
      "t=82.5 2 iterations\n",
      "t=82.5 2 iterations\n",
      "t=97.5 2 iterations\n",
      "t=97.5 2 iterations\n",
      "t=97.5 2 iterations\n",
      "t=97.5 2 iterations\n",
      "t=97.5 2 iterations\n",
      "t=112.5 2 iterations\n",
      "t=112.5 2 iterations\n",
      "t=112.5 2 iterations\n",
      "t=112.5 2 iterations\n",
      "t=112.5 2 iterations\n",
      "t=127.5 2 iterations\n",
      "t=127.5 2 iterations\n",
      "t=127.5 2 iterations\n",
      "t=127.5 2 iterations\n",
      "t=127.5 2 iterations\n",
      "t=142.5 2 iterations\n",
      "t=142.5 2 iterations\n",
      "t=142.5 2 iterations\n",
      "t=142.5 2 iterations\n",
      "t=142.5 2 iterations\n",
      "t=157.5 2 iterations\n",
      "t=157.5 2 iterations\n",
      "t=157.5 2 iterations\n",
      "t=157.5 2 iterations\n",
      "t=157.5 2 iterations\n",
      "t=172.5 2 iterations\n",
      "t=172.5 2 iterations\n",
      "t=172.5 2 iterations\n",
      "t=172.5 2 iterations\n",
      "t=172.5 2 iterations\n",
      "t=187.5 1 iterations\n",
      "t=187.5 1 iterations\n",
      "t=187.5 1 iterations\n",
      "t=187.5 1 iterations\n",
      "t=187.5 1 iterations\n",
      "t=202.5 1 iterations\n",
      "t=202.5 1 iterations\n",
      "t=202.5 1 iterations\n",
      "t=202.5 1 iterations\n",
      "t=202.5 1 iterations\n",
      "t=217.5 2 iterations\n",
      "t=217.5 2 iterations\n",
      "t=217.5 2 iterations\n",
      "t=217.5 2 iterations\n",
      "t=217.5 2 iterations\n",
      "t=232.5 1 iterations\n",
      "t=232.5 1 iterations\n",
      "t=232.5 1 iterations\n",
      "t=232.5 1 iterations\n",
      "t=232.5 1 iterations\n",
      "t=247.5 2 iterations\n",
      "t=247.5 2 iterations\n",
      "t=247.5 2 iterations\n",
      "t=247.5 2 iterations\n",
      "t=247.5 2 iterations\n",
      "t=262.5 2 iterations\n",
      "t=262.5 2 iterations\n",
      "t=262.5 2 iterations\n",
      "t=262.5 2 iterations\n",
      "t=262.5 2 iterations\n",
      "t=277.5 2 iterations\n",
      "t=277.5 2 iterations\n",
      "t=277.5 2 iterations\n",
      "t=277.5 2 iterations\n",
      "t=277.5 2 iterations\n",
      "t=292.5 1 iterations\n",
      "t=292.5 1 iterations\n",
      "t=292.5 1 iterations\n",
      "t=292.5 1 iterations\n",
      "t=292.5 1 iterations\n"
     ]
    }
   ],
   "source": [
    "tol = 0.01  # tolerance for asubarr\n",
    "for i in range(Nt):\n",
    "    for k in range(Nthe):\n",
    "        t = tarr[i]\n",
    "        the = thearr[k]\n",
    "        Nion = Nion_t_intp(t)\n",
    "        rion = interp_fns[int(k*fine_spacing)](Nion)  # ionization radius\n",
    "        taudarr.fill(0)    # first iteration, no dust extinction\n",
    "        calculate_all_T(t, i, rion, Tarr, asubarr, taudarr)\n",
    "        frac_diff = 1.  # convergence criterion\n",
    "        n_iter = 0.     # number of iterations\n",
    "        while frac_diff > tol:\n",
    "            n_iter += 1\n",
    "            asubarr_old = np.copy(asubarr[i])\n",
    "            # we go back to calculate dust extinction optical depth\n",
    "            calculate_taudarr(i, asubarr, taudarr, thearr)\n",
    "            # then calculate the whole temperature again\n",
    "            calculate_all_T(t, i, rion, Tarr, asubarr, taudarr)\n",
    "            frac_diff = 0.\n",
    "            for j in range(Nr):\n",
    "                frac_diff = max(frac_diff, abs(asubarr_old[j, k]/asubarr[i, j, k] - 1))\n",
    "        print('t=%.1f' % t, '%d iterations' % n_iter)"
   ]
  },
  {
   "cell_type": "code",
   "execution_count": 24,
   "id": "38d845ca-5510-4b39-a3c6-339bacf331e0",
   "metadata": {},
   "outputs": [
    {
     "data": {
      "text/plain": [
       "array([[  0.        ,   0.        ,   0.        , ...,   0.        ,\n",
       "          0.        ,   0.        ],\n",
       "       [  0.        ,   0.        ,   0.        , ...,   0.        ,\n",
       "          0.        ,   0.        ],\n",
       "       [  0.        ,   0.        ,   0.        , ...,   0.        ,\n",
       "          0.        ,   0.        ],\n",
       "       ...,\n",
       "       [750.46292036, 738.38478065, 726.42499726, ..., 471.96126998,\n",
       "        463.61773875, 455.41117957],\n",
       "       [739.50053206, 727.60757018, 715.83107485, ..., 465.2113141 ,\n",
       "        456.9903284 , 448.90394009],\n",
       "       [728.63476716, 716.92558375, 705.33099275, ..., 458.52626811,\n",
       "        450.42691257, 442.4598001 ]], shape=(150, 30))"
      ]
     },
     "execution_count": 24,
     "metadata": {},
     "output_type": "execute_result"
    }
   ],
   "source": [
    "Tarr[4,:,4,:]"
   ]
  },
  {
   "cell_type": "code",
   "execution_count": 79,
   "id": "92ebe2d2-4a8c-4f3e-b017-3c0e2977cb48",
   "metadata": {},
   "outputs": [
    {
     "data": {
      "text/plain": [
       "array([[[ True,  True,  True, ...,  True,  True,  True],\n",
       "        [ True,  True,  True, ...,  True,  True,  True],\n",
       "        [ True,  True,  True, ...,  True,  True,  True],\n",
       "        ...,\n",
       "        [ True,  True,  True, ...,  True,  True,  True],\n",
       "        [ True,  True,  True, ...,  True,  True,  True],\n",
       "        [ True,  True,  True, ...,  True,  True,  True]],\n",
       "\n",
       "       [[ True,  True,  True, ...,  True,  True,  True],\n",
       "        [ True,  True,  True, ...,  True,  True,  True],\n",
       "        [ True,  True,  True, ...,  True,  True,  True],\n",
       "        ...,\n",
       "        [ True,  True,  True, ...,  True,  True,  True],\n",
       "        [ True,  True,  True, ...,  True,  True,  True],\n",
       "        [ True,  True,  True, ...,  True,  True,  True]],\n",
       "\n",
       "       [[ True,  True,  True, ...,  True,  True,  True],\n",
       "        [ True,  True,  True, ...,  True,  True,  True],\n",
       "        [ True,  True,  True, ...,  True,  True,  True],\n",
       "        ...,\n",
       "        [ True,  True,  True, ...,  True,  True,  True],\n",
       "        [ True,  True,  True, ...,  True,  True,  True],\n",
       "        [ True,  True,  True, ...,  True,  True,  True]],\n",
       "\n",
       "       ...,\n",
       "\n",
       "       [[ True,  True,  True, ...,  True,  True,  True],\n",
       "        [ True,  True,  True, ...,  True,  True,  True],\n",
       "        [ True,  True,  True, ...,  True,  True,  True],\n",
       "        ...,\n",
       "        [ True,  True,  True, ...,  True,  True,  True],\n",
       "        [ True,  True,  True, ...,  True,  True,  True],\n",
       "        [ True,  True,  True, ...,  True,  True,  True]],\n",
       "\n",
       "       [[ True,  True,  True, ...,  True,  True,  True],\n",
       "        [ True,  True,  True, ...,  True,  True,  True],\n",
       "        [ True,  True,  True, ...,  True,  True,  True],\n",
       "        ...,\n",
       "        [ True,  True,  True, ...,  True,  True,  True],\n",
       "        [ True,  True,  True, ...,  True,  True,  True],\n",
       "        [ True,  True,  True, ...,  True,  True,  True]],\n",
       "\n",
       "       [[ True,  True,  True, ...,  True,  True,  True],\n",
       "        [ True,  True,  True, ...,  True,  True,  True],\n",
       "        [ True,  True,  True, ...,  True,  True,  True],\n",
       "        ...,\n",
       "        [ True,  True,  True, ...,  True,  True,  True],\n",
       "        [ True,  True,  True, ...,  True,  True,  True],\n",
       "        [ True,  True,  True, ...,  True,  True,  True]]],\n",
       "      shape=(20, 150, 30))"
      ]
     },
     "execution_count": 79,
     "metadata": {},
     "output_type": "execute_result"
    }
   ],
   "source": [
    "Tarr[:,:,4,:]==np.zeros((Nt, Nr, Na))"
   ]
  },
  {
   "cell_type": "code",
   "execution_count": null,
   "id": "b94287b4-8c32-426e-95cd-55dc3027a3a8",
   "metadata": {},
   "outputs": [],
   "source": [
    "# write the results into files: Tarr, asubarr\n",
    "savelist = ['Td', 'asub']\n",
    "for i_file in range(len(savelist)):\n",
    "    fname = 'nH%.1e_' % nH0 + savelist[i_file]\n",
    "    with open(savedir+fname + '.txt', 'w') as f:\n",
    "        if savelist[i_file] == 'Td':\n",
    "            f.write('tmin\\ttmax\\tNt\\t%.8e\\t%.8e\\t%d\\tlinear' % (tmin, tmax, Nt))\n",
    "            f.write('\\nrmin\\trmax\\tNr\\t%.8e\\t%.8e\\t%d\\tlog' % (rmin, rmax, Nr))\n",
    "            f.write('\\nthemin\\tthemax\\tNthe\\t%.8e\\t%.8e\\t%d\\tlinear' % (themin, themax, Nthe))\n",
    "            f.write('\\namin\\tamax\\tNa\\t%.8e\\t%.8e\\t%d\\tlog' % (amin, amax, Na))\n",
    "            f.write('\\n')\n",
    "            for i in range(Nt):\n",
    "                t = tarr[i]\n",
    "                f.write('\\ni=%d, t=%.8e' % (i, t))\n",
    "                for j in range(Nr):\n",
    "                    f.write('\\n')\n",
    "                    for l in range(Nthe):\n",
    "                        f.write('\\n')\n",
    "                        for k in range(Na):\n",
    "                            if k == 0:\n",
    "                                f.write('%.8e' % Tarr[i, j, l, k])\n",
    "                            else:\n",
    "                                f.write('\\t%.8e' % Tarr[i, j, l, k])\n",
    "        elif savelist[i_file] == 'asub':\n",
    "            f.write('tmin\\ttmax\\tNt\\t%.8e\\t%.8e\\t%d\\tlog' % (tmin, tmax, Nt))\n",
    "            f.write('\\nrmin\\trmax\\tNr\\t%.8e\\t%.8e\\t%d\\tlog' % (rmin, rmax, Nr))\n",
    "            f.write('themin\\tthemax\\tNthe\\t%.8e\\t%.8e\\t%d\\tlinear' % (themin, themax, Nthe))\n",
    "            f.write('\\n')\n",
    "            for i in range(Nt):\n",
    "                f.write('\\n')\n",
    "                for j in range(Nr):\n",
    "                    f.write('\\n')\n",
    "                    for l in range(Nthe):\n",
    "                        if l == 0:\n",
    "                            f.write('%.8e' % asubarr[i, j, l])\n",
    "                        else:\n",
    "                            f.write('\\t%.8e' % asubarr[i, j, l])"
   ]
  }
 ],
 "metadata": {
  "kernelspec": {
   "display_name": "Python 3 (ipykernel)",
   "language": "python",
   "name": "python3"
  },
  "language_info": {
   "codemirror_mode": {
    "name": "ipython",
    "version": 3
   },
   "file_extension": ".py",
   "mimetype": "text/x-python",
   "name": "python",
   "nbconvert_exporter": "python",
   "pygments_lexer": "ipython3",
   "version": "3.12.6"
  }
 },
 "nbformat": 4,
 "nbformat_minor": 5
}
